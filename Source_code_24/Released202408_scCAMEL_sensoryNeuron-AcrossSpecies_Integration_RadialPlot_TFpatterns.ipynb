{
 "cells": [
  {
   "cell_type": "code",
   "execution_count": 1,
   "metadata": {},
   "outputs": [
    {
     "data": {
      "text/plain": [
       "'2023-01-15'"
      ]
     },
     "execution_count": 1,
     "metadata": {},
     "output_type": "execute_result"
    }
   ],
   "source": [
    "import datetime\n",
    "import numpy as np\n",
    "import pandas as pd\n",
    "\n",
    "import matplotlib.patches as patches\n",
    "from matplotlib import pyplot as plt\n",
    "from matplotlib.path import Path\n",
    "\n",
    "from matplotlib.collections import PatchCollection\n",
    "today=f\"{datetime.datetime.now():%Y-%m-%d}\"\n",
    "today"
   ]
  },
  {
   "cell_type": "code",
   "execution_count": 2,
   "metadata": {
    "scrolled": false
   },
   "outputs": [
    {
     "name": "stdout",
     "output_type": "stream",
     "text": [
      "%pylab is deprecated, use %matplotlib inline and import the required libraries.\n",
      "Populating the interactive namespace from numpy and matplotlib\n"
     ]
    },
    {
     "name": "stderr",
     "output_type": "stream",
     "text": [
      "C:\\Users\\huyiz\\AppData\\Local\\Continuum\\anaconda3\\envs\\py39\\lib\\site-packages\\IPython\\core\\magics\\pylab.py:162: UserWarning: pylab import has clobbered these variables: ['floor']\n",
      "`%matplotlib` prevents importing * from pylab and numpy\n",
      "  warn(\"pylab import has clobbered these variables: %s\"  % clobbered +\n"
     ]
    }
   ],
   "source": [
    "import torch\n",
    "import torch.nn as nn\n",
    "from torch.autograd import Variable\n",
    "import torch.utils.data as Data\n",
    "import torchvision\n",
    "import matplotlib.pyplot as plt\n",
    "from mpl_toolkits.mplot3d import Axes3D\n",
    "import torch.utils.data as data_utils\n",
    "from matplotlib import cm\n",
    "import numpy as np\n",
    "import pandas as pd\n",
    "import pickle as pickle\n",
    "from scipy.spatial.distance import cdist, pdist, squareform\n",
    "import pandas as pd\n",
    "from sklearn.linear_model import LogisticRegression, LogisticRegressionCV\n",
    "from sklearn.model_selection import StratifiedShuffleSplit  \n",
    "from collections import defaultdict\n",
    "from sklearn import preprocessing\n",
    "import matplotlib.patches as mpatches\n",
    "import torch.nn.functional as F\n",
    "import math\n",
    "#import gpytorch\n",
    "\n",
    "import urllib.request\n",
    "import os.path\n",
    "from scipy.io import loadmat\n",
    "from math import floor\n",
    "import anndata\n",
    "import seaborn as sns\n",
    "from scipy.spatial import distance\n",
    "from scipy.cluster import hierarchy\n",
    "# Make plots inline\n",
    "from sklearn.decomposition import PCA\n",
    "from sklearn.cross_decomposition import CCA\n",
    "%pylab inline\n"
   ]
  },
  {
   "cell_type": "code",
   "execution_count": 3,
   "metadata": {},
   "outputs": [
    {
     "name": "stderr",
     "output_type": "stream",
     "text": [
      "C:\\Users\\huyiz\\AppData\\Local\\Continuum\\anaconda3\\envs\\py39\\lib\\site-packages\\scCAMEL\\CamelSwapline.py:534: FutureWarning: The default dtype for empty Series will be 'object' instead of 'float64' in a future version. Specify a dtype explicitly to silence this warning.\n",
      "  def addcolor(datax,clustername=\"Cluster\", colorcode=\"color\", predef=pd.Series()):\n"
     ]
    }
   ],
   "source": [
    "import scCAMEL as scm\n",
    "from scCAMEL import CamelPrefiltering\n",
    "from scCAMEL import CamelSwapline\n",
    "from scCAMEL import CamelEvo\n",
    "import os,glob"
   ]
  },
  {
   "cell_type": "code",
   "execution_count": 4,
   "metadata": {
    "scrolled": false
   },
   "outputs": [
    {
     "name": "stdout",
     "output_type": "stream",
     "text": [
      "F:\\Dropbox\\data\\proj\\PE_HYZ\\IpythonRecord\\Tools_Test\\scCAMEL\n"
     ]
    }
   ],
   "source": [
    "cd ."
   ]
  },
  {
   "cell_type": "markdown",
   "metadata": {},
   "source": [
    "# Integration"
   ]
  },
  {
   "cell_type": "code",
   "execution_count": 5,
   "metadata": {
    "scrolled": false
   },
   "outputs": [
    {
     "name": "stdout",
     "output_type": "stream",
     "text": [
      "F:\\Dropbox\\data\\proj\\PE_HYZ\\PublicDataSet\\DRG_luo_Human\\FinalCluster\\AllTrainedDataset\\Interpre\n"
     ]
    }
   ],
   "source": [
    "cd F:\\Dropbox\\data\\proj\\PE_HYZ\\PublicDataSet\\DRG_luo_Human\\FinalCluster\\AllTrainedDataset\\Interpre"
   ]
  },
  {
   "cell_type": "code",
   "execution_count": 6,
   "metadata": {
    "scrolled": true
   },
   "outputs": [],
   "source": [
    "#cd /mnt/f/Yizhou_KI_OneCloud/OneDrive - Karolinska Institutet/Datasets_Template/scCAMEL_EVO_results/PBMC/"
   ]
  },
  {
   "cell_type": "code",
   "execution_count": 7,
   "metadata": {},
   "outputs": [],
   "source": [
    "filepath=\"/Dropbox/data/proj/PE_HYZ/PublicDataSet/DRG_luo_Human/FinalCluster/AllTrainedDataset/Interpre/\""
   ]
  },
  {
   "cell_type": "code",
   "execution_count": 9,
   "metadata": {},
   "outputs": [],
   "source": [
    "item='Macaque_Macaque_Ref2022-12-01_MergeCluster.h5ad'"
   ]
  },
  {
   "cell_type": "code",
   "execution_count": 10,
   "metadata": {},
   "outputs": [
    {
     "data": {
      "text/plain": [
       "'/f/Dropbox/data/proj/PE_HYZ/PublicDataSet/DRG_luo_Human/FinalCluster/AllTrainedDataset/Interpre/Macaque_Macaque_Ref2022-12-01_MergeCluster.h5ad'"
      ]
     },
     "execution_count": 10,
     "metadata": {},
     "output_type": "execute_result"
    }
   ],
   "source": [
    "filepath+item"
   ]
  },
  {
   "cell_type": "code",
   "execution_count": 11,
   "metadata": {},
   "outputs": [],
   "source": [
    "DatasetName=[]\n",
    "for item in glob.glob('*.h5ad'):\n",
    "    DatasetName.append(item.split(\"_\")[0])"
   ]
  },
  {
   "cell_type": "code",
   "execution_count": 12,
   "metadata": {},
   "outputs": [
    {
     "data": {
      "text/plain": [
       "['LuoHuman',\n",
       " 'LuoHuman',\n",
       " 'LuoHuman',\n",
       " 'LuoHuman',\n",
       " 'Macaque',\n",
       " 'Macaque',\n",
       " 'Macaque',\n",
       " 'Macaque',\n",
       " 'SharmaMouse',\n",
       " 'SharmaMouse',\n",
       " 'SharmaMouse',\n",
       " 'SharmaMouse',\n",
       " 'ZeiselMouse',\n",
       " 'ZeiselMouse',\n",
       " 'ZeiselMouse',\n",
       " 'ZeiselMouse']"
      ]
     },
     "execution_count": 12,
     "metadata": {},
     "output_type": "execute_result"
    }
   ],
   "source": [
    "DatasetName"
   ]
  },
  {
   "cell_type": "code",
   "execution_count": 13,
   "metadata": {
    "scrolled": true
   },
   "outputs": [
    {
     "data": {
      "text/plain": [
       "array(['LuoHuman_LuoHuman_Ref2022-12-14_MergeCluster.h5ad',\n",
       "       'LuoHuman_Macaque_Ref2022-12-15_MergeCluster.h5ad',\n",
       "       'LuoHuman_SharmaMouse_Ref2022-12-16_MergeCluster.h5ad',\n",
       "       'LuoHuman_ZeiselMouse_Ref2022-12-14_MergeCluster.h5ad',\n",
       "       'Macaque_LuoHuman_Ref2022-12-14_MergeCluster.h5ad',\n",
       "       'Macaque_Macaque_Ref2022-12-15_MergeCluster.h5ad',\n",
       "       'Macaque_SharmaMouse_Ref2022-12-16_MergeCluster.h5ad',\n",
       "       'Macaque_ZeiselMouse_Ref2022-12-14_MergeCluster.h5ad',\n",
       "       'SharmaMouse_LuoHuman_Ref2022-12-14_MergeCluster.h5ad',\n",
       "       'SharmaMouse_Macaque_Ref2022-12-15_MergeCluster.h5ad',\n",
       "       'SharmaMouse_SharmaMouse_Ref2022-12-16_MergeCluster.h5ad',\n",
       "       'SharmaMouse_ZeiselMouse_Ref2022-12-14_MergeCluster.h5ad',\n",
       "       'ZeiselMouse_LuoHuman_Ref2022-12-14_MergeCluster.h5ad',\n",
       "       'ZeiselMouse_Macaque_Ref2022-12-15_MergeCluster.h5ad',\n",
       "       'ZeiselMouse_SharmaMouse_Ref2022-12-16_MergeCluster.h5ad',\n",
       "       'ZeiselMouse_ZeiselMouse_Ref2022-12-14_MergeCluster.h5ad'],\n",
       "      dtype='<U55')"
      ]
     },
     "execution_count": 13,
     "metadata": {},
     "output_type": "execute_result"
    }
   ],
   "source": [
    "filelist=glob.glob('*.h5ad')\n",
    "filelist=sort(filelist)\n",
    "filelist"
   ]
  },
  {
   "cell_type": "code",
   "execution_count": 14,
   "metadata": {
    "scrolled": true
   },
   "outputs": [
    {
     "data": {
      "text/plain": [
       "{'LuoHuman', 'Macaque', 'SharmaMouse', 'ZeiselMouse'}"
      ]
     },
     "execution_count": 14,
     "metadata": {},
     "output_type": "execute_result"
    }
   ],
   "source": [
    "set(DatasetName)"
   ]
  },
  {
   "cell_type": "code",
   "execution_count": 15,
   "metadata": {
    "scrolled": true
   },
   "outputs": [
    {
     "data": {
      "text/plain": [
       "'/f/Dropbox/data/proj/PE_HYZ/PublicDataSet/DRG_luo_Human/FinalCluster/AllTrainedDataset/Interpre/'"
      ]
     },
     "execution_count": 15,
     "metadata": {},
     "output_type": "execute_result"
    }
   ],
   "source": [
    "filepath"
   ]
  },
  {
   "cell_type": "code",
   "execution_count": 19,
   "metadata": {
    "scrolled": false
   },
   "outputs": [
    {
     "name": "stderr",
     "output_type": "stream",
     "text": [
      "C:\\Users\\huyiz\\AppData\\Local\\Continuum\\anaconda3\\envs\\py39\\lib\\site-packages\\scCAMEL\\CamelEvo.py:399: FutureWarning: X.dtype being converted to np.float32 from float64. In the next version of anndata (0.9) conversion will not be automatic. Pass dtype explicitly to avoid this warning. Pass `AnnData(X, dtype=X.dtype, ...)` to get the future behavour.\n",
      "  vars()[tempname]= anndata.AnnData(dfdevOri.iloc[:,:-1].T)\n",
      "C:\\Users\\huyiz\\AppData\\Local\\Continuum\\anaconda3\\envs\\py39\\lib\\site-packages\\scCAMEL\\CamelEvo.py:399: FutureWarning: X.dtype being converted to np.float32 from float64. In the next version of anndata (0.9) conversion will not be automatic. Pass dtype explicitly to avoid this warning. Pass `AnnData(X, dtype=X.dtype, ...)` to get the future behavour.\n",
      "  vars()[tempname]= anndata.AnnData(dfdevOri.iloc[:,:-1].T)\n",
      "C:\\Users\\huyiz\\AppData\\Local\\Continuum\\anaconda3\\envs\\py39\\lib\\site-packages\\scCAMEL\\CamelEvo.py:399: FutureWarning: X.dtype being converted to np.float32 from float64. In the next version of anndata (0.9) conversion will not be automatic. Pass dtype explicitly to avoid this warning. Pass `AnnData(X, dtype=X.dtype, ...)` to get the future behavour.\n",
      "  vars()[tempname]= anndata.AnnData(dfdevOri.iloc[:,:-1].T)\n",
      "C:\\Users\\huyiz\\AppData\\Local\\Continuum\\anaconda3\\envs\\py39\\lib\\site-packages\\scCAMEL\\CamelEvo.py:399: FutureWarning: X.dtype being converted to np.float32 from float64. In the next version of anndata (0.9) conversion will not be automatic. Pass dtype explicitly to avoid this warning. Pass `AnnData(X, dtype=X.dtype, ...)` to get the future behavour.\n",
      "  vars()[tempname]= anndata.AnnData(dfdevOri.iloc[:,:-1].T)\n"
     ]
    },
    {
     "data": {
      "text/plain": [
       "AnnData object with n_obs × n_vars = 14739 × 15575\n",
       "    obs: 'Cluster', 'mtrain_index', 'batch', 'color', 'Dataset'\n",
       "    obsm: 'CelltypeScoreCoordinates', 'Celltype_Score', 'NormalizedMatrix', 'PCAraw0'"
      ]
     },
     "execution_count": 19,
     "metadata": {},
     "output_type": "execute_result"
    }
   ],
   "source": [
    "#swref=CamelEvo.MergeObject(DatasetName=DatasetName, filelist=filelist,filepath=filepath)\n",
    "swref=CamelEvo.MergeObjectValue(DatasetName=DatasetName, filelist=filelist,filepath=filepath)\n",
    "swref"
   ]
  },
  {
   "cell_type": "code",
   "execution_count": null,
   "metadata": {},
   "outputs": [],
   "source": []
  },
  {
   "cell_type": "code",
   "execution_count": 5,
   "metadata": {},
   "outputs": [
    {
     "name": "stdout",
     "output_type": "stream",
     "text": [
      "F:\\Dropbox\\data\\proj\\PE_HYZ\\PublicDataSet\\DRG_luo_Human\\FinalCluster\\AllTrainedDataset\n"
     ]
    }
   ],
   "source": [
    "cd F:\\Dropbox\\data\\proj\\PE_HYZ\\PublicDataSet\\DRG_luo_Human\\FinalCluster\\AllTrainedDataset"
   ]
  },
  {
   "cell_type": "code",
   "execution_count": 6,
   "metadata": {
    "scrolled": false
   },
   "outputs": [],
   "source": [
    "swref=anndata.read(\"2022-12-19_sensoryNeuron_4Datasets_MergeMatrix.h5ad\")"
   ]
  },
  {
   "cell_type": "code",
   "execution_count": null,
   "metadata": {},
   "outputs": [],
   "source": []
  },
  {
   "cell_type": "markdown",
   "metadata": {},
   "source": [
    "# Cell-Type Tree"
   ]
  },
  {
   "cell_type": "code",
   "execution_count": 29,
   "metadata": {},
   "outputs": [],
   "source": [
    "adata=swref[swref.obs[\"Dataset\"].isin(['LuoHuman', 'Macaque'])]\n"
   ]
  },
  {
   "cell_type": "code",
   "execution_count": 30,
   "metadata": {},
   "outputs": [
    {
     "data": {
      "image/png": "[encoded data removed]",
      "text/plain": [
       "<Figure size 500x500 with 1 Axes>"
      ]
     },
     "metadata": {},
     "output_type": "display_data"
    }
   ],
   "source": [
    "adata,PCAmodel=CamelEvo.PCAesti(adatax=adata)"
   ]
  },
  {
   "cell_type": "code",
   "execution_count": 36,
   "metadata": {},
   "outputs": [
    {
     "name": "stdout",
     "output_type": "stream",
     "text": [
      "F:\\Dropbox\\data\\proj\\PE_HYZ\\PublicDataSet\\DRG_luo_Human\\FinalCluster\\AllTrainedDataset\\Macaque_Human\\20230115\n"
     ]
    }
   ],
   "source": [
    "for pcvalues in range(10,21,2):\n",
    "    #pcvalues=p\n",
    "    adata.obsm['Celltype_Score']=adata.obsm['Celltype_ScoreAll'][:,:pcvalues]\n",
    "    #N_value=max(int(adta.shape[0]/100), pcvalues*1.5)\n",
    "    for N_value in range(10,200,20):\n",
    "        adata=scm.CamelSwapline.SWAPLINE_dist(datax=adata, \n",
    "                                               n_neighbors=N_value, \n",
    "                                              # n_neighbors=136,\n",
    "                                              metric = 'correlation'\n",
    "                                              )\n",
    "        CamelEvo.EvoTreePlot( adatax=adata, color_thresholdValue=3, figname=\"%s_PC%s_NN%s_Treeplot.png\"%(today, pcvalues,N_value))"
   ]
  },
  {
   "cell_type": "code",
   "execution_count": null,
   "metadata": {},
   "outputs": [],
   "source": []
  },
  {
   "cell_type": "markdown",
   "metadata": {},
   "source": [
    "# TFpatterns"
   ]
  },
  {
   "cell_type": "code",
   "execution_count": 7,
   "metadata": {
    "scrolled": true
   },
   "outputs": [
    {
     "name": "stdout",
     "output_type": "stream",
     "text": [
      "F:\\Dropbox\\data\\proj\\PE_HYZ\\PublicDataSet\\DRG_luo_Human\\FinalCluster\\AllTrainedDataset\\Interpre\n"
     ]
    }
   ],
   "source": [
    "cd F:\\Dropbox\\data\\proj\\PE_HYZ\\PublicDataSet\\DRG_luo_Human\\FinalCluster\\AllTrainedDataset\\Interpre"
   ]
  },
  {
   "cell_type": "code",
   "execution_count": 24,
   "metadata": {},
   "outputs": [],
   "source": [
    "df=pd.read_table(\"AllSensoryNeuron_coreTF_GRN.csv\",index_col=0,header=0,sep=\"\\t\")"
   ]
  },
  {
   "cell_type": "code",
   "execution_count": 25,
   "metadata": {},
   "outputs": [
    {
     "name": "stderr",
     "output_type": "stream",
     "text": [
      "C:\\Users\\huyiz\\AppData\\Local\\Temp\\ipykernel_25368\\568180435.py:1: FutureWarning: X.dtype being converted to np.float32 from float64. In the next version of anndata (0.9) conversion will not be automatic. Pass dtype explicitly to avoid this warning. Pass `AnnData(X, dtype=X.dtype, ...)` to get the future behavour.\n",
      "  swTF=anndata.AnnData(df.T)\n"
     ]
    }
   ],
   "source": [
    "swTF=anndata.AnnData(df.T)"
   ]
  },
  {
   "cell_type": "code",
   "execution_count": null,
   "metadata": {},
   "outputs": [],
   "source": []
  },
  {
   "cell_type": "code",
   "execution_count": 26,
   "metadata": {},
   "outputs": [
    {
     "data": {
      "text/plain": [
       "array([ True,  True,  True, ...,  True,  True,  True])"
      ]
     },
     "execution_count": 26,
     "metadata": {},
     "output_type": "execute_result"
    }
   ],
   "source": [
    "swTF.obs.index==swref.obs.index"
   ]
  },
  {
   "cell_type": "code",
   "execution_count": 27,
   "metadata": {},
   "outputs": [],
   "source": [
    "swTF.obs=swref.obs"
   ]
  },
  {
   "cell_type": "code",
   "execution_count": 28,
   "metadata": {},
   "outputs": [
    {
     "data": {
      "text/html": [
       "<div>\n",
       "<style scoped>\n",
       "    .dataframe tbody tr th:only-of-type {\n",
       "        vertical-align: middle;\n",
       "    }\n",
       "\n",
       "    .dataframe tbody tr th {\n",
       "        vertical-align: top;\n",
       "    }\n",
       "\n",
       "    .dataframe thead th {\n",
       "        text-align: right;\n",
       "    }\n",
       "</style>\n",
       "<table border=\"1\" class=\"dataframe\">\n",
       "  <thead>\n",
       "    <tr style=\"text-align: right;\">\n",
       "      <th></th>\n",
       "      <th>Cluster</th>\n",
       "      <th>mtrain_index</th>\n",
       "      <th>batch</th>\n",
       "      <th>color</th>\n",
       "      <th>Dataset</th>\n",
       "    </tr>\n",
       "  </thead>\n",
       "  <tbody>\n",
       "    <tr>\n",
       "      <th>sten_X10X43_2_AAACCTGCCATA.726-1</th>\n",
       "      <td>Th</td>\n",
       "      <td>12</td>\n",
       "      <td>1</td>\n",
       "      <td>#9fc282</td>\n",
       "      <td>ZeiselMouse</td>\n",
       "    </tr>\n",
       "    <tr>\n",
       "      <th>sten_X10X43_2_AACACTTGCTCC.314-1</th>\n",
       "      <td>NP1</td>\n",
       "      <td>3</td>\n",
       "      <td>1</td>\n",
       "      <td>#8f8d05</td>\n",
       "      <td>ZeiselMouse</td>\n",
       "    </tr>\n",
       "    <tr>\n",
       "      <th>sten_X10X43_2_AACACTTGGTTG.622-1</th>\n",
       "      <td>Th</td>\n",
       "      <td>12</td>\n",
       "      <td>1</td>\n",
       "      <td>#9fc282</td>\n",
       "      <td>ZeiselMouse</td>\n",
       "    </tr>\n",
       "    <tr>\n",
       "      <th>sten_X10X43_2_AACATGAGCCTA.1013-1</th>\n",
       "      <td>TRPM8</td>\n",
       "      <td>11</td>\n",
       "      <td>1</td>\n",
       "      <td>#3b0b21</td>\n",
       "      <td>ZeiselMouse</td>\n",
       "    </tr>\n",
       "    <tr>\n",
       "      <th>sten_X10X43_2_AACATGATTCTC.1139-1</th>\n",
       "      <td>PEP1_PSPEP5</td>\n",
       "      <td>9</td>\n",
       "      <td>1</td>\n",
       "      <td>#331498</td>\n",
       "      <td>ZeiselMouse</td>\n",
       "    </tr>\n",
       "    <tr>\n",
       "      <th>...</th>\n",
       "      <td>...</td>\n",
       "      <td>...</td>\n",
       "      <td>...</td>\n",
       "      <td>...</td>\n",
       "      <td>...</td>\n",
       "    </tr>\n",
       "    <tr>\n",
       "      <th>SS_9_SS2.16.304_B14-2</th>\n",
       "      <td>Macq_A-LTMR</td>\n",
       "      <td>0</td>\n",
       "      <td>2</td>\n",
       "      <td>#e8623c</td>\n",
       "      <td>Macaque</td>\n",
       "    </tr>\n",
       "    <tr>\n",
       "      <th>SS_9_SS2.16.304_D06-2</th>\n",
       "      <td>Macq_A-LTMR</td>\n",
       "      <td>0</td>\n",
       "      <td>2</td>\n",
       "      <td>#e8623c</td>\n",
       "      <td>Macaque</td>\n",
       "    </tr>\n",
       "    <tr>\n",
       "      <th>SS_9_SS2.16.304_F11-2</th>\n",
       "      <td>Macq_A-LTMR</td>\n",
       "      <td>0</td>\n",
       "      <td>2</td>\n",
       "      <td>#e8623c</td>\n",
       "      <td>Macaque</td>\n",
       "    </tr>\n",
       "    <tr>\n",
       "      <th>SS_9_SS2.16.304_F23-2</th>\n",
       "      <td>Macq_A-LTMR</td>\n",
       "      <td>0</td>\n",
       "      <td>2</td>\n",
       "      <td>#e8623c</td>\n",
       "      <td>Macaque</td>\n",
       "    </tr>\n",
       "    <tr>\n",
       "      <th>SS_9_SS2.16.304_M18-2</th>\n",
       "      <td>Macq_A-LTMR</td>\n",
       "      <td>0</td>\n",
       "      <td>2</td>\n",
       "      <td>#e8623c</td>\n",
       "      <td>Macaque</td>\n",
       "    </tr>\n",
       "  </tbody>\n",
       "</table>\n",
       "<p>14739 rows × 5 columns</p>\n",
       "</div>"
      ],
      "text/plain": [
       "                                       Cluster mtrain_index batch    color  \\\n",
       "sten_X10X43_2_AAACCTGCCATA.726-1            Th           12     1  #9fc282   \n",
       "sten_X10X43_2_AACACTTGCTCC.314-1           NP1            3     1  #8f8d05   \n",
       "sten_X10X43_2_AACACTTGGTTG.622-1            Th           12     1  #9fc282   \n",
       "sten_X10X43_2_AACATGAGCCTA.1013-1        TRPM8           11     1  #3b0b21   \n",
       "sten_X10X43_2_AACATGATTCTC.1139-1  PEP1_PSPEP5            9     1  #331498   \n",
       "...                                        ...          ...   ...      ...   \n",
       "SS_9_SS2.16.304_B14-2              Macq_A-LTMR            0     2  #e8623c   \n",
       "SS_9_SS2.16.304_D06-2              Macq_A-LTMR            0     2  #e8623c   \n",
       "SS_9_SS2.16.304_F11-2              Macq_A-LTMR            0     2  #e8623c   \n",
       "SS_9_SS2.16.304_F23-2              Macq_A-LTMR            0     2  #e8623c   \n",
       "SS_9_SS2.16.304_M18-2              Macq_A-LTMR            0     2  #e8623c   \n",
       "\n",
       "                                       Dataset  \n",
       "sten_X10X43_2_AAACCTGCCATA.726-1   ZeiselMouse  \n",
       "sten_X10X43_2_AACACTTGCTCC.314-1   ZeiselMouse  \n",
       "sten_X10X43_2_AACACTTGGTTG.622-1   ZeiselMouse  \n",
       "sten_X10X43_2_AACATGAGCCTA.1013-1  ZeiselMouse  \n",
       "sten_X10X43_2_AACATGATTCTC.1139-1  ZeiselMouse  \n",
       "...                                        ...  \n",
       "SS_9_SS2.16.304_B14-2                  Macaque  \n",
       "SS_9_SS2.16.304_D06-2                  Macaque  \n",
       "SS_9_SS2.16.304_F11-2                  Macaque  \n",
       "SS_9_SS2.16.304_F23-2                  Macaque  \n",
       "SS_9_SS2.16.304_M18-2                  Macaque  \n",
       "\n",
       "[14739 rows x 5 columns]"
      ]
     },
     "execution_count": 28,
     "metadata": {},
     "output_type": "execute_result"
    }
   ],
   "source": [
    "swTF.obs"
   ]
  },
  {
   "cell_type": "code",
   "execution_count": 30,
   "metadata": {},
   "outputs": [],
   "source": [
    "import scanpy as sc"
   ]
  },
  {
   "cell_type": "code",
   "execution_count": 31,
   "metadata": {},
   "outputs": [
    {
     "name": "stderr",
     "output_type": "stream",
     "text": [
      "C:\\Users\\huyiz\\AppData\\Local\\Continuum\\anaconda3\\envs\\py39\\lib\\site-packages\\scanpy\\tools\\_rank_genes_groups.py:394: PerformanceWarning: DataFrame is highly fragmented.  This is usually the result of calling `frame.insert` many times, which has poor performance.  Consider joining all columns at once using pd.concat(axis=1) instead. To get a de-fragmented frame, use `newframe = frame.copy()`\n",
      "  self.stats[group_name, 'names'] = self.var_names[global_indices]\n",
      "C:\\Users\\huyiz\\AppData\\Local\\Continuum\\anaconda3\\envs\\py39\\lib\\site-packages\\scanpy\\tools\\_rank_genes_groups.py:396: PerformanceWarning: DataFrame is highly fragmented.  This is usually the result of calling `frame.insert` many times, which has poor performance.  Consider joining all columns at once using pd.concat(axis=1) instead. To get a de-fragmented frame, use `newframe = frame.copy()`\n",
      "  self.stats[group_name, 'scores'] = scores[global_indices]\n",
      "C:\\Users\\huyiz\\AppData\\Local\\Continuum\\anaconda3\\envs\\py39\\lib\\site-packages\\scanpy\\tools\\_rank_genes_groups.py:399: PerformanceWarning: DataFrame is highly fragmented.  This is usually the result of calling `frame.insert` many times, which has poor performance.  Consider joining all columns at once using pd.concat(axis=1) instead. To get a de-fragmented frame, use `newframe = frame.copy()`\n",
      "  self.stats[group_name, 'pvals'] = pvals[global_indices]\n",
      "C:\\Users\\huyiz\\AppData\\Local\\Continuum\\anaconda3\\envs\\py39\\lib\\site-packages\\scanpy\\tools\\_rank_genes_groups.py:409: PerformanceWarning: DataFrame is highly fragmented.  This is usually the result of calling `frame.insert` many times, which has poor performance.  Consider joining all columns at once using pd.concat(axis=1) instead. To get a de-fragmented frame, use `newframe = frame.copy()`\n",
      "  self.stats[group_name, 'pvals_adj'] = pvals_adj[global_indices]\n",
      "C:\\Users\\huyiz\\AppData\\Local\\Continuum\\anaconda3\\envs\\py39\\lib\\site-packages\\scanpy\\tools\\_rank_genes_groups.py:420: PerformanceWarning: DataFrame is highly fragmented.  This is usually the result of calling `frame.insert` many times, which has poor performance.  Consider joining all columns at once using pd.concat(axis=1) instead. To get a de-fragmented frame, use `newframe = frame.copy()`\n",
      "  self.stats[group_name, 'logfoldchanges'] = np.log2(\n",
      "C:\\Users\\huyiz\\AppData\\Local\\Continuum\\anaconda3\\envs\\py39\\lib\\site-packages\\scanpy\\tools\\_rank_genes_groups.py:394: PerformanceWarning: DataFrame is highly fragmented.  This is usually the result of calling `frame.insert` many times, which has poor performance.  Consider joining all columns at once using pd.concat(axis=1) instead. To get a de-fragmented frame, use `newframe = frame.copy()`\n",
      "  self.stats[group_name, 'names'] = self.var_names[global_indices]\n",
      "C:\\Users\\huyiz\\AppData\\Local\\Continuum\\anaconda3\\envs\\py39\\lib\\site-packages\\scanpy\\tools\\_rank_genes_groups.py:396: PerformanceWarning: DataFrame is highly fragmented.  This is usually the result of calling `frame.insert` many times, which has poor performance.  Consider joining all columns at once using pd.concat(axis=1) instead. To get a de-fragmented frame, use `newframe = frame.copy()`\n",
      "  self.stats[group_name, 'scores'] = scores[global_indices]\n",
      "C:\\Users\\huyiz\\AppData\\Local\\Continuum\\anaconda3\\envs\\py39\\lib\\site-packages\\scanpy\\tools\\_rank_genes_groups.py:399: PerformanceWarning: DataFrame is highly fragmented.  This is usually the result of calling `frame.insert` many times, which has poor performance.  Consider joining all columns at once using pd.concat(axis=1) instead. To get a de-fragmented frame, use `newframe = frame.copy()`\n",
      "  self.stats[group_name, 'pvals'] = pvals[global_indices]\n",
      "C:\\Users\\huyiz\\AppData\\Local\\Continuum\\anaconda3\\envs\\py39\\lib\\site-packages\\scanpy\\tools\\_rank_genes_groups.py:409: PerformanceWarning: DataFrame is highly fragmented.  This is usually the result of calling `frame.insert` many times, which has poor performance.  Consider joining all columns at once using pd.concat(axis=1) instead. To get a de-fragmented frame, use `newframe = frame.copy()`\n",
      "  self.stats[group_name, 'pvals_adj'] = pvals_adj[global_indices]\n",
      "C:\\Users\\huyiz\\AppData\\Local\\Continuum\\anaconda3\\envs\\py39\\lib\\site-packages\\scanpy\\tools\\_rank_genes_groups.py:420: PerformanceWarning: DataFrame is highly fragmented.  This is usually the result of calling `frame.insert` many times, which has poor performance.  Consider joining all columns at once using pd.concat(axis=1) instead. To get a de-fragmented frame, use `newframe = frame.copy()`\n",
      "  self.stats[group_name, 'logfoldchanges'] = np.log2(\n",
      "C:\\Users\\huyiz\\AppData\\Local\\Continuum\\anaconda3\\envs\\py39\\lib\\site-packages\\scanpy\\tools\\_rank_genes_groups.py:394: PerformanceWarning: DataFrame is highly fragmented.  This is usually the result of calling `frame.insert` many times, which has poor performance.  Consider joining all columns at once using pd.concat(axis=1) instead. To get a de-fragmented frame, use `newframe = frame.copy()`\n",
      "  self.stats[group_name, 'names'] = self.var_names[global_indices]\n",
      "C:\\Users\\huyiz\\AppData\\Local\\Continuum\\anaconda3\\envs\\py39\\lib\\site-packages\\scanpy\\tools\\_rank_genes_groups.py:396: PerformanceWarning: DataFrame is highly fragmented.  This is usually the result of calling `frame.insert` many times, which has poor performance.  Consider joining all columns at once using pd.concat(axis=1) instead. To get a de-fragmented frame, use `newframe = frame.copy()`\n",
      "  self.stats[group_name, 'scores'] = scores[global_indices]\n",
      "C:\\Users\\huyiz\\AppData\\Local\\Continuum\\anaconda3\\envs\\py39\\lib\\site-packages\\scanpy\\tools\\_rank_genes_groups.py:399: PerformanceWarning: DataFrame is highly fragmented.  This is usually the result of calling `frame.insert` many times, which has poor performance.  Consider joining all columns at once using pd.concat(axis=1) instead. To get a de-fragmented frame, use `newframe = frame.copy()`\n",
      "  self.stats[group_name, 'pvals'] = pvals[global_indices]\n",
      "C:\\Users\\huyiz\\AppData\\Local\\Continuum\\anaconda3\\envs\\py39\\lib\\site-packages\\scanpy\\tools\\_rank_genes_groups.py:409: PerformanceWarning: DataFrame is highly fragmented.  This is usually the result of calling `frame.insert` many times, which has poor performance.  Consider joining all columns at once using pd.concat(axis=1) instead. To get a de-fragmented frame, use `newframe = frame.copy()`\n",
      "  self.stats[group_name, 'pvals_adj'] = pvals_adj[global_indices]\n",
      "C:\\Users\\huyiz\\AppData\\Local\\Continuum\\anaconda3\\envs\\py39\\lib\\site-packages\\scanpy\\tools\\_rank_genes_groups.py:420: PerformanceWarning: DataFrame is highly fragmented.  This is usually the result of calling `frame.insert` many times, which has poor performance.  Consider joining all columns at once using pd.concat(axis=1) instead. To get a de-fragmented frame, use `newframe = frame.copy()`\n",
      "  self.stats[group_name, 'logfoldchanges'] = np.log2(\n",
      "C:\\Users\\huyiz\\AppData\\Local\\Continuum\\anaconda3\\envs\\py39\\lib\\site-packages\\scanpy\\tools\\_rank_genes_groups.py:394: PerformanceWarning: DataFrame is highly fragmented.  This is usually the result of calling `frame.insert` many times, which has poor performance.  Consider joining all columns at once using pd.concat(axis=1) instead. To get a de-fragmented frame, use `newframe = frame.copy()`\n",
      "  self.stats[group_name, 'names'] = self.var_names[global_indices]\n",
      "C:\\Users\\huyiz\\AppData\\Local\\Continuum\\anaconda3\\envs\\py39\\lib\\site-packages\\scanpy\\tools\\_rank_genes_groups.py:396: PerformanceWarning: DataFrame is highly fragmented.  This is usually the result of calling `frame.insert` many times, which has poor performance.  Consider joining all columns at once using pd.concat(axis=1) instead. To get a de-fragmented frame, use `newframe = frame.copy()`\n",
      "  self.stats[group_name, 'scores'] = scores[global_indices]\n",
      "C:\\Users\\huyiz\\AppData\\Local\\Continuum\\anaconda3\\envs\\py39\\lib\\site-packages\\scanpy\\tools\\_rank_genes_groups.py:399: PerformanceWarning: DataFrame is highly fragmented.  This is usually the result of calling `frame.insert` many times, which has poor performance.  Consider joining all columns at once using pd.concat(axis=1) instead. To get a de-fragmented frame, use `newframe = frame.copy()`\n",
      "  self.stats[group_name, 'pvals'] = pvals[global_indices]\n",
      "C:\\Users\\huyiz\\AppData\\Local\\Continuum\\anaconda3\\envs\\py39\\lib\\site-packages\\scanpy\\tools\\_rank_genes_groups.py:409: PerformanceWarning: DataFrame is highly fragmented.  This is usually the result of calling `frame.insert` many times, which has poor performance.  Consider joining all columns at once using pd.concat(axis=1) instead. To get a de-fragmented frame, use `newframe = frame.copy()`\n",
      "  self.stats[group_name, 'pvals_adj'] = pvals_adj[global_indices]\n",
      "C:\\Users\\huyiz\\AppData\\Local\\Continuum\\anaconda3\\envs\\py39\\lib\\site-packages\\scanpy\\tools\\_rank_genes_groups.py:420: PerformanceWarning: DataFrame is highly fragmented.  This is usually the result of calling `frame.insert` many times, which has poor performance.  Consider joining all columns at once using pd.concat(axis=1) instead. To get a de-fragmented frame, use `newframe = frame.copy()`\n",
      "  self.stats[group_name, 'logfoldchanges'] = np.log2(\n",
      "C:\\Users\\huyiz\\AppData\\Local\\Continuum\\anaconda3\\envs\\py39\\lib\\site-packages\\scanpy\\tools\\_rank_genes_groups.py:394: PerformanceWarning: DataFrame is highly fragmented.  This is usually the result of calling `frame.insert` many times, which has poor performance.  Consider joining all columns at once using pd.concat(axis=1) instead. To get a de-fragmented frame, use `newframe = frame.copy()`\n",
      "  self.stats[group_name, 'names'] = self.var_names[global_indices]\n",
      "C:\\Users\\huyiz\\AppData\\Local\\Continuum\\anaconda3\\envs\\py39\\lib\\site-packages\\scanpy\\tools\\_rank_genes_groups.py:396: PerformanceWarning: DataFrame is highly fragmented.  This is usually the result of calling `frame.insert` many times, which has poor performance.  Consider joining all columns at once using pd.concat(axis=1) instead. To get a de-fragmented frame, use `newframe = frame.copy()`\n",
      "  self.stats[group_name, 'scores'] = scores[global_indices]\n",
      "C:\\Users\\huyiz\\AppData\\Local\\Continuum\\anaconda3\\envs\\py39\\lib\\site-packages\\scanpy\\tools\\_rank_genes_groups.py:399: PerformanceWarning: DataFrame is highly fragmented.  This is usually the result of calling `frame.insert` many times, which has poor performance.  Consider joining all columns at once using pd.concat(axis=1) instead. To get a de-fragmented frame, use `newframe = frame.copy()`\n",
      "  self.stats[group_name, 'pvals'] = pvals[global_indices]\n",
      "C:\\Users\\huyiz\\AppData\\Local\\Continuum\\anaconda3\\envs\\py39\\lib\\site-packages\\scanpy\\tools\\_rank_genes_groups.py:409: PerformanceWarning: DataFrame is highly fragmented.  This is usually the result of calling `frame.insert` many times, which has poor performance.  Consider joining all columns at once using pd.concat(axis=1) instead. To get a de-fragmented frame, use `newframe = frame.copy()`\n",
      "  self.stats[group_name, 'pvals_adj'] = pvals_adj[global_indices]\n",
      "C:\\Users\\huyiz\\AppData\\Local\\Continuum\\anaconda3\\envs\\py39\\lib\\site-packages\\scanpy\\tools\\_rank_genes_groups.py:420: PerformanceWarning: DataFrame is highly fragmented.  This is usually the result of calling `frame.insert` many times, which has poor performance.  Consider joining all columns at once using pd.concat(axis=1) instead. To get a de-fragmented frame, use `newframe = frame.copy()`\n",
      "  self.stats[group_name, 'logfoldchanges'] = np.log2(\n",
      "C:\\Users\\huyiz\\AppData\\Local\\Continuum\\anaconda3\\envs\\py39\\lib\\site-packages\\scanpy\\tools\\_rank_genes_groups.py:394: PerformanceWarning: DataFrame is highly fragmented.  This is usually the result of calling `frame.insert` many times, which has poor performance.  Consider joining all columns at once using pd.concat(axis=1) instead. To get a de-fragmented frame, use `newframe = frame.copy()`\n",
      "  self.stats[group_name, 'names'] = self.var_names[global_indices]\n",
      "C:\\Users\\huyiz\\AppData\\Local\\Continuum\\anaconda3\\envs\\py39\\lib\\site-packages\\scanpy\\tools\\_rank_genes_groups.py:396: PerformanceWarning: DataFrame is highly fragmented.  This is usually the result of calling `frame.insert` many times, which has poor performance.  Consider joining all columns at once using pd.concat(axis=1) instead. To get a de-fragmented frame, use `newframe = frame.copy()`\n",
      "  self.stats[group_name, 'scores'] = scores[global_indices]\n",
      "C:\\Users\\huyiz\\AppData\\Local\\Continuum\\anaconda3\\envs\\py39\\lib\\site-packages\\scanpy\\tools\\_rank_genes_groups.py:399: PerformanceWarning: DataFrame is highly fragmented.  This is usually the result of calling `frame.insert` many times, which has poor performance.  Consider joining all columns at once using pd.concat(axis=1) instead. To get a de-fragmented frame, use `newframe = frame.copy()`\n",
      "  self.stats[group_name, 'pvals'] = pvals[global_indices]\n",
      "C:\\Users\\huyiz\\AppData\\Local\\Continuum\\anaconda3\\envs\\py39\\lib\\site-packages\\scanpy\\tools\\_rank_genes_groups.py:409: PerformanceWarning: DataFrame is highly fragmented.  This is usually the result of calling `frame.insert` many times, which has poor performance.  Consider joining all columns at once using pd.concat(axis=1) instead. To get a de-fragmented frame, use `newframe = frame.copy()`\n",
      "  self.stats[group_name, 'pvals_adj'] = pvals_adj[global_indices]\n",
      "C:\\Users\\huyiz\\AppData\\Local\\Continuum\\anaconda3\\envs\\py39\\lib\\site-packages\\scanpy\\tools\\_rank_genes_groups.py:420: PerformanceWarning: DataFrame is highly fragmented.  This is usually the result of calling `frame.insert` many times, which has poor performance.  Consider joining all columns at once using pd.concat(axis=1) instead. To get a de-fragmented frame, use `newframe = frame.copy()`\n",
      "  self.stats[group_name, 'logfoldchanges'] = np.log2(\n",
      "C:\\Users\\huyiz\\AppData\\Local\\Continuum\\anaconda3\\envs\\py39\\lib\\site-packages\\scanpy\\tools\\_rank_genes_groups.py:394: PerformanceWarning: DataFrame is highly fragmented.  This is usually the result of calling `frame.insert` many times, which has poor performance.  Consider joining all columns at once using pd.concat(axis=1) instead. To get a de-fragmented frame, use `newframe = frame.copy()`\n",
      "  self.stats[group_name, 'names'] = self.var_names[global_indices]\n",
      "C:\\Users\\huyiz\\AppData\\Local\\Continuum\\anaconda3\\envs\\py39\\lib\\site-packages\\scanpy\\tools\\_rank_genes_groups.py:396: PerformanceWarning: DataFrame is highly fragmented.  This is usually the result of calling `frame.insert` many times, which has poor performance.  Consider joining all columns at once using pd.concat(axis=1) instead. To get a de-fragmented frame, use `newframe = frame.copy()`\n",
      "  self.stats[group_name, 'scores'] = scores[global_indices]\n",
      "C:\\Users\\huyiz\\AppData\\Local\\Continuum\\anaconda3\\envs\\py39\\lib\\site-packages\\scanpy\\tools\\_rank_genes_groups.py:399: PerformanceWarning: DataFrame is highly fragmented.  This is usually the result of calling `frame.insert` many times, which has poor performance.  Consider joining all columns at once using pd.concat(axis=1) instead. To get a de-fragmented frame, use `newframe = frame.copy()`\n",
      "  self.stats[group_name, 'pvals'] = pvals[global_indices]\n",
      "C:\\Users\\huyiz\\AppData\\Local\\Continuum\\anaconda3\\envs\\py39\\lib\\site-packages\\scanpy\\tools\\_rank_genes_groups.py:409: PerformanceWarning: DataFrame is highly fragmented.  This is usually the result of calling `frame.insert` many times, which has poor performance.  Consider joining all columns at once using pd.concat(axis=1) instead. To get a de-fragmented frame, use `newframe = frame.copy()`\n",
      "  self.stats[group_name, 'pvals_adj'] = pvals_adj[global_indices]\n",
      "C:\\Users\\huyiz\\AppData\\Local\\Continuum\\anaconda3\\envs\\py39\\lib\\site-packages\\scanpy\\tools\\_rank_genes_groups.py:420: PerformanceWarning: DataFrame is highly fragmented.  This is usually the result of calling `frame.insert` many times, which has poor performance.  Consider joining all columns at once using pd.concat(axis=1) instead. To get a de-fragmented frame, use `newframe = frame.copy()`\n",
      "  self.stats[group_name, 'logfoldchanges'] = np.log2(\n",
      "C:\\Users\\huyiz\\AppData\\Local\\Continuum\\anaconda3\\envs\\py39\\lib\\site-packages\\scanpy\\tools\\_rank_genes_groups.py:394: PerformanceWarning: DataFrame is highly fragmented.  This is usually the result of calling `frame.insert` many times, which has poor performance.  Consider joining all columns at once using pd.concat(axis=1) instead. To get a de-fragmented frame, use `newframe = frame.copy()`\n",
      "  self.stats[group_name, 'names'] = self.var_names[global_indices]\n",
      "C:\\Users\\huyiz\\AppData\\Local\\Continuum\\anaconda3\\envs\\py39\\lib\\site-packages\\scanpy\\tools\\_rank_genes_groups.py:396: PerformanceWarning: DataFrame is highly fragmented.  This is usually the result of calling `frame.insert` many times, which has poor performance.  Consider joining all columns at once using pd.concat(axis=1) instead. To get a de-fragmented frame, use `newframe = frame.copy()`\n",
      "  self.stats[group_name, 'scores'] = scores[global_indices]\n",
      "C:\\Users\\huyiz\\AppData\\Local\\Continuum\\anaconda3\\envs\\py39\\lib\\site-packages\\scanpy\\tools\\_rank_genes_groups.py:399: PerformanceWarning: DataFrame is highly fragmented.  This is usually the result of calling `frame.insert` many times, which has poor performance.  Consider joining all columns at once using pd.concat(axis=1) instead. To get a de-fragmented frame, use `newframe = frame.copy()`\n",
      "  self.stats[group_name, 'pvals'] = pvals[global_indices]\n",
      "C:\\Users\\huyiz\\AppData\\Local\\Continuum\\anaconda3\\envs\\py39\\lib\\site-packages\\scanpy\\tools\\_rank_genes_groups.py:409: PerformanceWarning: DataFrame is highly fragmented.  This is usually the result of calling `frame.insert` many times, which has poor performance.  Consider joining all columns at once using pd.concat(axis=1) instead. To get a de-fragmented frame, use `newframe = frame.copy()`\n",
      "  self.stats[group_name, 'pvals_adj'] = pvals_adj[global_indices]\n",
      "C:\\Users\\huyiz\\AppData\\Local\\Continuum\\anaconda3\\envs\\py39\\lib\\site-packages\\scanpy\\tools\\_rank_genes_groups.py:420: PerformanceWarning: DataFrame is highly fragmented.  This is usually the result of calling `frame.insert` many times, which has poor performance.  Consider joining all columns at once using pd.concat(axis=1) instead. To get a de-fragmented frame, use `newframe = frame.copy()`\n",
      "  self.stats[group_name, 'logfoldchanges'] = np.log2(\n",
      "C:\\Users\\huyiz\\AppData\\Local\\Continuum\\anaconda3\\envs\\py39\\lib\\site-packages\\scanpy\\tools\\_rank_genes_groups.py:394: PerformanceWarning: DataFrame is highly fragmented.  This is usually the result of calling `frame.insert` many times, which has poor performance.  Consider joining all columns at once using pd.concat(axis=1) instead. To get a de-fragmented frame, use `newframe = frame.copy()`\n",
      "  self.stats[group_name, 'names'] = self.var_names[global_indices]\n",
      "C:\\Users\\huyiz\\AppData\\Local\\Continuum\\anaconda3\\envs\\py39\\lib\\site-packages\\scanpy\\tools\\_rank_genes_groups.py:396: PerformanceWarning: DataFrame is highly fragmented.  This is usually the result of calling `frame.insert` many times, which has poor performance.  Consider joining all columns at once using pd.concat(axis=1) instead. To get a de-fragmented frame, use `newframe = frame.copy()`\n",
      "  self.stats[group_name, 'scores'] = scores[global_indices]\n",
      "C:\\Users\\huyiz\\AppData\\Local\\Continuum\\anaconda3\\envs\\py39\\lib\\site-packages\\scanpy\\tools\\_rank_genes_groups.py:399: PerformanceWarning: DataFrame is highly fragmented.  This is usually the result of calling `frame.insert` many times, which has poor performance.  Consider joining all columns at once using pd.concat(axis=1) instead. To get a de-fragmented frame, use `newframe = frame.copy()`\n",
      "  self.stats[group_name, 'pvals'] = pvals[global_indices]\n",
      "C:\\Users\\huyiz\\AppData\\Local\\Continuum\\anaconda3\\envs\\py39\\lib\\site-packages\\scanpy\\tools\\_rank_genes_groups.py:409: PerformanceWarning: DataFrame is highly fragmented.  This is usually the result of calling `frame.insert` many times, which has poor performance.  Consider joining all columns at once using pd.concat(axis=1) instead. To get a de-fragmented frame, use `newframe = frame.copy()`\n",
      "  self.stats[group_name, 'pvals_adj'] = pvals_adj[global_indices]\n",
      "C:\\Users\\huyiz\\AppData\\Local\\Continuum\\anaconda3\\envs\\py39\\lib\\site-packages\\scanpy\\tools\\_rank_genes_groups.py:420: PerformanceWarning: DataFrame is highly fragmented.  This is usually the result of calling `frame.insert` many times, which has poor performance.  Consider joining all columns at once using pd.concat(axis=1) instead. To get a de-fragmented frame, use `newframe = frame.copy()`\n",
      "  self.stats[group_name, 'logfoldchanges'] = np.log2(\n",
      "C:\\Users\\huyiz\\AppData\\Local\\Continuum\\anaconda3\\envs\\py39\\lib\\site-packages\\scanpy\\tools\\_rank_genes_groups.py:394: PerformanceWarning: DataFrame is highly fragmented.  This is usually the result of calling `frame.insert` many times, which has poor performance.  Consider joining all columns at once using pd.concat(axis=1) instead. To get a de-fragmented frame, use `newframe = frame.copy()`\n",
      "  self.stats[group_name, 'names'] = self.var_names[global_indices]\n",
      "C:\\Users\\huyiz\\AppData\\Local\\Continuum\\anaconda3\\envs\\py39\\lib\\site-packages\\scanpy\\tools\\_rank_genes_groups.py:396: PerformanceWarning: DataFrame is highly fragmented.  This is usually the result of calling `frame.insert` many times, which has poor performance.  Consider joining all columns at once using pd.concat(axis=1) instead. To get a de-fragmented frame, use `newframe = frame.copy()`\n",
      "  self.stats[group_name, 'scores'] = scores[global_indices]\n",
      "C:\\Users\\huyiz\\AppData\\Local\\Continuum\\anaconda3\\envs\\py39\\lib\\site-packages\\scanpy\\tools\\_rank_genes_groups.py:399: PerformanceWarning: DataFrame is highly fragmented.  This is usually the result of calling `frame.insert` many times, which has poor performance.  Consider joining all columns at once using pd.concat(axis=1) instead. To get a de-fragmented frame, use `newframe = frame.copy()`\n",
      "  self.stats[group_name, 'pvals'] = pvals[global_indices]\n",
      "C:\\Users\\huyiz\\AppData\\Local\\Continuum\\anaconda3\\envs\\py39\\lib\\site-packages\\scanpy\\tools\\_rank_genes_groups.py:409: PerformanceWarning: DataFrame is highly fragmented.  This is usually the result of calling `frame.insert` many times, which has poor performance.  Consider joining all columns at once using pd.concat(axis=1) instead. To get a de-fragmented frame, use `newframe = frame.copy()`\n",
      "  self.stats[group_name, 'pvals_adj'] = pvals_adj[global_indices]\n",
      "C:\\Users\\huyiz\\AppData\\Local\\Continuum\\anaconda3\\envs\\py39\\lib\\site-packages\\scanpy\\tools\\_rank_genes_groups.py:420: PerformanceWarning: DataFrame is highly fragmented.  This is usually the result of calling `frame.insert` many times, which has poor performance.  Consider joining all columns at once using pd.concat(axis=1) instead. To get a de-fragmented frame, use `newframe = frame.copy()`\n",
      "  self.stats[group_name, 'logfoldchanges'] = np.log2(\n",
      "C:\\Users\\huyiz\\AppData\\Local\\Continuum\\anaconda3\\envs\\py39\\lib\\site-packages\\scanpy\\tools\\_rank_genes_groups.py:394: PerformanceWarning: DataFrame is highly fragmented.  This is usually the result of calling `frame.insert` many times, which has poor performance.  Consider joining all columns at once using pd.concat(axis=1) instead. To get a de-fragmented frame, use `newframe = frame.copy()`\n",
      "  self.stats[group_name, 'names'] = self.var_names[global_indices]\n",
      "C:\\Users\\huyiz\\AppData\\Local\\Continuum\\anaconda3\\envs\\py39\\lib\\site-packages\\scanpy\\tools\\_rank_genes_groups.py:396: PerformanceWarning: DataFrame is highly fragmented.  This is usually the result of calling `frame.insert` many times, which has poor performance.  Consider joining all columns at once using pd.concat(axis=1) instead. To get a de-fragmented frame, use `newframe = frame.copy()`\n",
      "  self.stats[group_name, 'scores'] = scores[global_indices]\n",
      "C:\\Users\\huyiz\\AppData\\Local\\Continuum\\anaconda3\\envs\\py39\\lib\\site-packages\\scanpy\\tools\\_rank_genes_groups.py:399: PerformanceWarning: DataFrame is highly fragmented.  This is usually the result of calling `frame.insert` many times, which has poor performance.  Consider joining all columns at once using pd.concat(axis=1) instead. To get a de-fragmented frame, use `newframe = frame.copy()`\n",
      "  self.stats[group_name, 'pvals'] = pvals[global_indices]\n",
      "C:\\Users\\huyiz\\AppData\\Local\\Continuum\\anaconda3\\envs\\py39\\lib\\site-packages\\scanpy\\tools\\_rank_genes_groups.py:409: PerformanceWarning: DataFrame is highly fragmented.  This is usually the result of calling `frame.insert` many times, which has poor performance.  Consider joining all columns at once using pd.concat(axis=1) instead. To get a de-fragmented frame, use `newframe = frame.copy()`\n",
      "  self.stats[group_name, 'pvals_adj'] = pvals_adj[global_indices]\n",
      "C:\\Users\\huyiz\\AppData\\Local\\Continuum\\anaconda3\\envs\\py39\\lib\\site-packages\\scanpy\\tools\\_rank_genes_groups.py:420: PerformanceWarning: DataFrame is highly fragmented.  This is usually the result of calling `frame.insert` many times, which has poor performance.  Consider joining all columns at once using pd.concat(axis=1) instead. To get a de-fragmented frame, use `newframe = frame.copy()`\n",
      "  self.stats[group_name, 'logfoldchanges'] = np.log2(\n",
      "C:\\Users\\huyiz\\AppData\\Local\\Continuum\\anaconda3\\envs\\py39\\lib\\site-packages\\scanpy\\tools\\_rank_genes_groups.py:394: PerformanceWarning: DataFrame is highly fragmented.  This is usually the result of calling `frame.insert` many times, which has poor performance.  Consider joining all columns at once using pd.concat(axis=1) instead. To get a de-fragmented frame, use `newframe = frame.copy()`\n",
      "  self.stats[group_name, 'names'] = self.var_names[global_indices]\n",
      "C:\\Users\\huyiz\\AppData\\Local\\Continuum\\anaconda3\\envs\\py39\\lib\\site-packages\\scanpy\\tools\\_rank_genes_groups.py:396: PerformanceWarning: DataFrame is highly fragmented.  This is usually the result of calling `frame.insert` many times, which has poor performance.  Consider joining all columns at once using pd.concat(axis=1) instead. To get a de-fragmented frame, use `newframe = frame.copy()`\n",
      "  self.stats[group_name, 'scores'] = scores[global_indices]\n",
      "C:\\Users\\huyiz\\AppData\\Local\\Continuum\\anaconda3\\envs\\py39\\lib\\site-packages\\scanpy\\tools\\_rank_genes_groups.py:399: PerformanceWarning: DataFrame is highly fragmented.  This is usually the result of calling `frame.insert` many times, which has poor performance.  Consider joining all columns at once using pd.concat(axis=1) instead. To get a de-fragmented frame, use `newframe = frame.copy()`\n",
      "  self.stats[group_name, 'pvals'] = pvals[global_indices]\n",
      "C:\\Users\\huyiz\\AppData\\Local\\Continuum\\anaconda3\\envs\\py39\\lib\\site-packages\\scanpy\\tools\\_rank_genes_groups.py:409: PerformanceWarning: DataFrame is highly fragmented.  This is usually the result of calling `frame.insert` many times, which has poor performance.  Consider joining all columns at once using pd.concat(axis=1) instead. To get a de-fragmented frame, use `newframe = frame.copy()`\n",
      "  self.stats[group_name, 'pvals_adj'] = pvals_adj[global_indices]\n",
      "C:\\Users\\huyiz\\AppData\\Local\\Continuum\\anaconda3\\envs\\py39\\lib\\site-packages\\scanpy\\tools\\_rank_genes_groups.py:420: PerformanceWarning: DataFrame is highly fragmented.  This is usually the result of calling `frame.insert` many times, which has poor performance.  Consider joining all columns at once using pd.concat(axis=1) instead. To get a de-fragmented frame, use `newframe = frame.copy()`\n",
      "  self.stats[group_name, 'logfoldchanges'] = np.log2(\n",
      "C:\\Users\\huyiz\\AppData\\Local\\Continuum\\anaconda3\\envs\\py39\\lib\\site-packages\\scanpy\\tools\\_rank_genes_groups.py:394: PerformanceWarning: DataFrame is highly fragmented.  This is usually the result of calling `frame.insert` many times, which has poor performance.  Consider joining all columns at once using pd.concat(axis=1) instead. To get a de-fragmented frame, use `newframe = frame.copy()`\n",
      "  self.stats[group_name, 'names'] = self.var_names[global_indices]\n",
      "C:\\Users\\huyiz\\AppData\\Local\\Continuum\\anaconda3\\envs\\py39\\lib\\site-packages\\scanpy\\tools\\_rank_genes_groups.py:396: PerformanceWarning: DataFrame is highly fragmented.  This is usually the result of calling `frame.insert` many times, which has poor performance.  Consider joining all columns at once using pd.concat(axis=1) instead. To get a de-fragmented frame, use `newframe = frame.copy()`\n",
      "  self.stats[group_name, 'scores'] = scores[global_indices]\n",
      "C:\\Users\\huyiz\\AppData\\Local\\Continuum\\anaconda3\\envs\\py39\\lib\\site-packages\\scanpy\\tools\\_rank_genes_groups.py:399: PerformanceWarning: DataFrame is highly fragmented.  This is usually the result of calling `frame.insert` many times, which has poor performance.  Consider joining all columns at once using pd.concat(axis=1) instead. To get a de-fragmented frame, use `newframe = frame.copy()`\n",
      "  self.stats[group_name, 'pvals'] = pvals[global_indices]\n",
      "C:\\Users\\huyiz\\AppData\\Local\\Continuum\\anaconda3\\envs\\py39\\lib\\site-packages\\scanpy\\tools\\_rank_genes_groups.py:409: PerformanceWarning: DataFrame is highly fragmented.  This is usually the result of calling `frame.insert` many times, which has poor performance.  Consider joining all columns at once using pd.concat(axis=1) instead. To get a de-fragmented frame, use `newframe = frame.copy()`\n",
      "  self.stats[group_name, 'pvals_adj'] = pvals_adj[global_indices]\n",
      "C:\\Users\\huyiz\\AppData\\Local\\Continuum\\anaconda3\\envs\\py39\\lib\\site-packages\\scanpy\\tools\\_rank_genes_groups.py:420: PerformanceWarning: DataFrame is highly fragmented.  This is usually the result of calling `frame.insert` many times, which has poor performance.  Consider joining all columns at once using pd.concat(axis=1) instead. To get a de-fragmented frame, use `newframe = frame.copy()`\n",
      "  self.stats[group_name, 'logfoldchanges'] = np.log2(\n",
      "C:\\Users\\huyiz\\AppData\\Local\\Continuum\\anaconda3\\envs\\py39\\lib\\site-packages\\scanpy\\tools\\_rank_genes_groups.py:394: PerformanceWarning: DataFrame is highly fragmented.  This is usually the result of calling `frame.insert` many times, which has poor performance.  Consider joining all columns at once using pd.concat(axis=1) instead. To get a de-fragmented frame, use `newframe = frame.copy()`\n",
      "  self.stats[group_name, 'names'] = self.var_names[global_indices]\n",
      "C:\\Users\\huyiz\\AppData\\Local\\Continuum\\anaconda3\\envs\\py39\\lib\\site-packages\\scanpy\\tools\\_rank_genes_groups.py:396: PerformanceWarning: DataFrame is highly fragmented.  This is usually the result of calling `frame.insert` many times, which has poor performance.  Consider joining all columns at once using pd.concat(axis=1) instead. To get a de-fragmented frame, use `newframe = frame.copy()`\n",
      "  self.stats[group_name, 'scores'] = scores[global_indices]\n",
      "C:\\Users\\huyiz\\AppData\\Local\\Continuum\\anaconda3\\envs\\py39\\lib\\site-packages\\scanpy\\tools\\_rank_genes_groups.py:399: PerformanceWarning: DataFrame is highly fragmented.  This is usually the result of calling `frame.insert` many times, which has poor performance.  Consider joining all columns at once using pd.concat(axis=1) instead. To get a de-fragmented frame, use `newframe = frame.copy()`\n",
      "  self.stats[group_name, 'pvals'] = pvals[global_indices]\n",
      "C:\\Users\\huyiz\\AppData\\Local\\Continuum\\anaconda3\\envs\\py39\\lib\\site-packages\\scanpy\\tools\\_rank_genes_groups.py:409: PerformanceWarning: DataFrame is highly fragmented.  This is usually the result of calling `frame.insert` many times, which has poor performance.  Consider joining all columns at once using pd.concat(axis=1) instead. To get a de-fragmented frame, use `newframe = frame.copy()`\n",
      "  self.stats[group_name, 'pvals_adj'] = pvals_adj[global_indices]\n",
      "C:\\Users\\huyiz\\AppData\\Local\\Continuum\\anaconda3\\envs\\py39\\lib\\site-packages\\scanpy\\tools\\_rank_genes_groups.py:420: PerformanceWarning: DataFrame is highly fragmented.  This is usually the result of calling `frame.insert` many times, which has poor performance.  Consider joining all columns at once using pd.concat(axis=1) instead. To get a de-fragmented frame, use `newframe = frame.copy()`\n",
      "  self.stats[group_name, 'logfoldchanges'] = np.log2(\n",
      "C:\\Users\\huyiz\\AppData\\Local\\Continuum\\anaconda3\\envs\\py39\\lib\\site-packages\\scanpy\\tools\\_rank_genes_groups.py:394: PerformanceWarning: DataFrame is highly fragmented.  This is usually the result of calling `frame.insert` many times, which has poor performance.  Consider joining all columns at once using pd.concat(axis=1) instead. To get a de-fragmented frame, use `newframe = frame.copy()`\n",
      "  self.stats[group_name, 'names'] = self.var_names[global_indices]\n",
      "C:\\Users\\huyiz\\AppData\\Local\\Continuum\\anaconda3\\envs\\py39\\lib\\site-packages\\scanpy\\tools\\_rank_genes_groups.py:396: PerformanceWarning: DataFrame is highly fragmented.  This is usually the result of calling `frame.insert` many times, which has poor performance.  Consider joining all columns at once using pd.concat(axis=1) instead. To get a de-fragmented frame, use `newframe = frame.copy()`\n",
      "  self.stats[group_name, 'scores'] = scores[global_indices]\n",
      "C:\\Users\\huyiz\\AppData\\Local\\Continuum\\anaconda3\\envs\\py39\\lib\\site-packages\\scanpy\\tools\\_rank_genes_groups.py:399: PerformanceWarning: DataFrame is highly fragmented.  This is usually the result of calling `frame.insert` many times, which has poor performance.  Consider joining all columns at once using pd.concat(axis=1) instead. To get a de-fragmented frame, use `newframe = frame.copy()`\n",
      "  self.stats[group_name, 'pvals'] = pvals[global_indices]\n",
      "C:\\Users\\huyiz\\AppData\\Local\\Continuum\\anaconda3\\envs\\py39\\lib\\site-packages\\scanpy\\tools\\_rank_genes_groups.py:409: PerformanceWarning: DataFrame is highly fragmented.  This is usually the result of calling `frame.insert` many times, which has poor performance.  Consider joining all columns at once using pd.concat(axis=1) instead. To get a de-fragmented frame, use `newframe = frame.copy()`\n",
      "  self.stats[group_name, 'pvals_adj'] = pvals_adj[global_indices]\n",
      "C:\\Users\\huyiz\\AppData\\Local\\Continuum\\anaconda3\\envs\\py39\\lib\\site-packages\\scanpy\\tools\\_rank_genes_groups.py:420: PerformanceWarning: DataFrame is highly fragmented.  This is usually the result of calling `frame.insert` many times, which has poor performance.  Consider joining all columns at once using pd.concat(axis=1) instead. To get a de-fragmented frame, use `newframe = frame.copy()`\n",
      "  self.stats[group_name, 'logfoldchanges'] = np.log2(\n",
      "C:\\Users\\huyiz\\AppData\\Local\\Continuum\\anaconda3\\envs\\py39\\lib\\site-packages\\scanpy\\tools\\_rank_genes_groups.py:394: PerformanceWarning: DataFrame is highly fragmented.  This is usually the result of calling `frame.insert` many times, which has poor performance.  Consider joining all columns at once using pd.concat(axis=1) instead. To get a de-fragmented frame, use `newframe = frame.copy()`\n",
      "  self.stats[group_name, 'names'] = self.var_names[global_indices]\n",
      "C:\\Users\\huyiz\\AppData\\Local\\Continuum\\anaconda3\\envs\\py39\\lib\\site-packages\\scanpy\\tools\\_rank_genes_groups.py:396: PerformanceWarning: DataFrame is highly fragmented.  This is usually the result of calling `frame.insert` many times, which has poor performance.  Consider joining all columns at once using pd.concat(axis=1) instead. To get a de-fragmented frame, use `newframe = frame.copy()`\n",
      "  self.stats[group_name, 'scores'] = scores[global_indices]\n",
      "C:\\Users\\huyiz\\AppData\\Local\\Continuum\\anaconda3\\envs\\py39\\lib\\site-packages\\scanpy\\tools\\_rank_genes_groups.py:399: PerformanceWarning: DataFrame is highly fragmented.  This is usually the result of calling `frame.insert` many times, which has poor performance.  Consider joining all columns at once using pd.concat(axis=1) instead. To get a de-fragmented frame, use `newframe = frame.copy()`\n",
      "  self.stats[group_name, 'pvals'] = pvals[global_indices]\n",
      "C:\\Users\\huyiz\\AppData\\Local\\Continuum\\anaconda3\\envs\\py39\\lib\\site-packages\\scanpy\\tools\\_rank_genes_groups.py:409: PerformanceWarning: DataFrame is highly fragmented.  This is usually the result of calling `frame.insert` many times, which has poor performance.  Consider joining all columns at once using pd.concat(axis=1) instead. To get a de-fragmented frame, use `newframe = frame.copy()`\n",
      "  self.stats[group_name, 'pvals_adj'] = pvals_adj[global_indices]\n",
      "C:\\Users\\huyiz\\AppData\\Local\\Continuum\\anaconda3\\envs\\py39\\lib\\site-packages\\scanpy\\tools\\_rank_genes_groups.py:420: PerformanceWarning: DataFrame is highly fragmented.  This is usually the result of calling `frame.insert` many times, which has poor performance.  Consider joining all columns at once using pd.concat(axis=1) instead. To get a de-fragmented frame, use `newframe = frame.copy()`\n",
      "  self.stats[group_name, 'logfoldchanges'] = np.log2(\n",
      "C:\\Users\\huyiz\\AppData\\Local\\Continuum\\anaconda3\\envs\\py39\\lib\\site-packages\\scanpy\\tools\\_rank_genes_groups.py:394: PerformanceWarning: DataFrame is highly fragmented.  This is usually the result of calling `frame.insert` many times, which has poor performance.  Consider joining all columns at once using pd.concat(axis=1) instead. To get a de-fragmented frame, use `newframe = frame.copy()`\n",
      "  self.stats[group_name, 'names'] = self.var_names[global_indices]\n",
      "C:\\Users\\huyiz\\AppData\\Local\\Continuum\\anaconda3\\envs\\py39\\lib\\site-packages\\scanpy\\tools\\_rank_genes_groups.py:396: PerformanceWarning: DataFrame is highly fragmented.  This is usually the result of calling `frame.insert` many times, which has poor performance.  Consider joining all columns at once using pd.concat(axis=1) instead. To get a de-fragmented frame, use `newframe = frame.copy()`\n",
      "  self.stats[group_name, 'scores'] = scores[global_indices]\n",
      "C:\\Users\\huyiz\\AppData\\Local\\Continuum\\anaconda3\\envs\\py39\\lib\\site-packages\\scanpy\\tools\\_rank_genes_groups.py:399: PerformanceWarning: DataFrame is highly fragmented.  This is usually the result of calling `frame.insert` many times, which has poor performance.  Consider joining all columns at once using pd.concat(axis=1) instead. To get a de-fragmented frame, use `newframe = frame.copy()`\n",
      "  self.stats[group_name, 'pvals'] = pvals[global_indices]\n",
      "C:\\Users\\huyiz\\AppData\\Local\\Continuum\\anaconda3\\envs\\py39\\lib\\site-packages\\scanpy\\tools\\_rank_genes_groups.py:409: PerformanceWarning: DataFrame is highly fragmented.  This is usually the result of calling `frame.insert` many times, which has poor performance.  Consider joining all columns at once using pd.concat(axis=1) instead. To get a de-fragmented frame, use `newframe = frame.copy()`\n",
      "  self.stats[group_name, 'pvals_adj'] = pvals_adj[global_indices]\n",
      "C:\\Users\\huyiz\\AppData\\Local\\Continuum\\anaconda3\\envs\\py39\\lib\\site-packages\\scanpy\\tools\\_rank_genes_groups.py:420: PerformanceWarning: DataFrame is highly fragmented.  This is usually the result of calling `frame.insert` many times, which has poor performance.  Consider joining all columns at once using pd.concat(axis=1) instead. To get a de-fragmented frame, use `newframe = frame.copy()`\n",
      "  self.stats[group_name, 'logfoldchanges'] = np.log2(\n",
      "C:\\Users\\huyiz\\AppData\\Local\\Continuum\\anaconda3\\envs\\py39\\lib\\site-packages\\scanpy\\tools\\_rank_genes_groups.py:394: PerformanceWarning: DataFrame is highly fragmented.  This is usually the result of calling `frame.insert` many times, which has poor performance.  Consider joining all columns at once using pd.concat(axis=1) instead. To get a de-fragmented frame, use `newframe = frame.copy()`\n",
      "  self.stats[group_name, 'names'] = self.var_names[global_indices]\n",
      "C:\\Users\\huyiz\\AppData\\Local\\Continuum\\anaconda3\\envs\\py39\\lib\\site-packages\\scanpy\\tools\\_rank_genes_groups.py:396: PerformanceWarning: DataFrame is highly fragmented.  This is usually the result of calling `frame.insert` many times, which has poor performance.  Consider joining all columns at once using pd.concat(axis=1) instead. To get a de-fragmented frame, use `newframe = frame.copy()`\n",
      "  self.stats[group_name, 'scores'] = scores[global_indices]\n",
      "C:\\Users\\huyiz\\AppData\\Local\\Continuum\\anaconda3\\envs\\py39\\lib\\site-packages\\scanpy\\tools\\_rank_genes_groups.py:399: PerformanceWarning: DataFrame is highly fragmented.  This is usually the result of calling `frame.insert` many times, which has poor performance.  Consider joining all columns at once using pd.concat(axis=1) instead. To get a de-fragmented frame, use `newframe = frame.copy()`\n",
      "  self.stats[group_name, 'pvals'] = pvals[global_indices]\n",
      "C:\\Users\\huyiz\\AppData\\Local\\Continuum\\anaconda3\\envs\\py39\\lib\\site-packages\\scanpy\\tools\\_rank_genes_groups.py:409: PerformanceWarning: DataFrame is highly fragmented.  This is usually the result of calling `frame.insert` many times, which has poor performance.  Consider joining all columns at once using pd.concat(axis=1) instead. To get a de-fragmented frame, use `newframe = frame.copy()`\n",
      "  self.stats[group_name, 'pvals_adj'] = pvals_adj[global_indices]\n",
      "C:\\Users\\huyiz\\AppData\\Local\\Continuum\\anaconda3\\envs\\py39\\lib\\site-packages\\scanpy\\tools\\_rank_genes_groups.py:420: PerformanceWarning: DataFrame is highly fragmented.  This is usually the result of calling `frame.insert` many times, which has poor performance.  Consider joining all columns at once using pd.concat(axis=1) instead. To get a de-fragmented frame, use `newframe = frame.copy()`\n",
      "  self.stats[group_name, 'logfoldchanges'] = np.log2(\n",
      "C:\\Users\\huyiz\\AppData\\Local\\Continuum\\anaconda3\\envs\\py39\\lib\\site-packages\\scanpy\\tools\\_rank_genes_groups.py:394: PerformanceWarning: DataFrame is highly fragmented.  This is usually the result of calling `frame.insert` many times, which has poor performance.  Consider joining all columns at once using pd.concat(axis=1) instead. To get a de-fragmented frame, use `newframe = frame.copy()`\n",
      "  self.stats[group_name, 'names'] = self.var_names[global_indices]\n",
      "C:\\Users\\huyiz\\AppData\\Local\\Continuum\\anaconda3\\envs\\py39\\lib\\site-packages\\scanpy\\tools\\_rank_genes_groups.py:396: PerformanceWarning: DataFrame is highly fragmented.  This is usually the result of calling `frame.insert` many times, which has poor performance.  Consider joining all columns at once using pd.concat(axis=1) instead. To get a de-fragmented frame, use `newframe = frame.copy()`\n",
      "  self.stats[group_name, 'scores'] = scores[global_indices]\n",
      "C:\\Users\\huyiz\\AppData\\Local\\Continuum\\anaconda3\\envs\\py39\\lib\\site-packages\\scanpy\\tools\\_rank_genes_groups.py:399: PerformanceWarning: DataFrame is highly fragmented.  This is usually the result of calling `frame.insert` many times, which has poor performance.  Consider joining all columns at once using pd.concat(axis=1) instead. To get a de-fragmented frame, use `newframe = frame.copy()`\n",
      "  self.stats[group_name, 'pvals'] = pvals[global_indices]\n",
      "C:\\Users\\huyiz\\AppData\\Local\\Continuum\\anaconda3\\envs\\py39\\lib\\site-packages\\scanpy\\tools\\_rank_genes_groups.py:409: PerformanceWarning: DataFrame is highly fragmented.  This is usually the result of calling `frame.insert` many times, which has poor performance.  Consider joining all columns at once using pd.concat(axis=1) instead. To get a de-fragmented frame, use `newframe = frame.copy()`\n",
      "  self.stats[group_name, 'pvals_adj'] = pvals_adj[global_indices]\n",
      "C:\\Users\\huyiz\\AppData\\Local\\Continuum\\anaconda3\\envs\\py39\\lib\\site-packages\\scanpy\\tools\\_rank_genes_groups.py:420: PerformanceWarning: DataFrame is highly fragmented.  This is usually the result of calling `frame.insert` many times, which has poor performance.  Consider joining all columns at once using pd.concat(axis=1) instead. To get a de-fragmented frame, use `newframe = frame.copy()`\n",
      "  self.stats[group_name, 'logfoldchanges'] = np.log2(\n",
      "C:\\Users\\huyiz\\AppData\\Local\\Continuum\\anaconda3\\envs\\py39\\lib\\site-packages\\scanpy\\tools\\_rank_genes_groups.py:394: PerformanceWarning: DataFrame is highly fragmented.  This is usually the result of calling `frame.insert` many times, which has poor performance.  Consider joining all columns at once using pd.concat(axis=1) instead. To get a de-fragmented frame, use `newframe = frame.copy()`\n",
      "  self.stats[group_name, 'names'] = self.var_names[global_indices]\n",
      "C:\\Users\\huyiz\\AppData\\Local\\Continuum\\anaconda3\\envs\\py39\\lib\\site-packages\\scanpy\\tools\\_rank_genes_groups.py:396: PerformanceWarning: DataFrame is highly fragmented.  This is usually the result of calling `frame.insert` many times, which has poor performance.  Consider joining all columns at once using pd.concat(axis=1) instead. To get a de-fragmented frame, use `newframe = frame.copy()`\n",
      "  self.stats[group_name, 'scores'] = scores[global_indices]\n",
      "C:\\Users\\huyiz\\AppData\\Local\\Continuum\\anaconda3\\envs\\py39\\lib\\site-packages\\scanpy\\tools\\_rank_genes_groups.py:399: PerformanceWarning: DataFrame is highly fragmented.  This is usually the result of calling `frame.insert` many times, which has poor performance.  Consider joining all columns at once using pd.concat(axis=1) instead. To get a de-fragmented frame, use `newframe = frame.copy()`\n",
      "  self.stats[group_name, 'pvals'] = pvals[global_indices]\n",
      "C:\\Users\\huyiz\\AppData\\Local\\Continuum\\anaconda3\\envs\\py39\\lib\\site-packages\\scanpy\\tools\\_rank_genes_groups.py:409: PerformanceWarning: DataFrame is highly fragmented.  This is usually the result of calling `frame.insert` many times, which has poor performance.  Consider joining all columns at once using pd.concat(axis=1) instead. To get a de-fragmented frame, use `newframe = frame.copy()`\n",
      "  self.stats[group_name, 'pvals_adj'] = pvals_adj[global_indices]\n",
      "C:\\Users\\huyiz\\AppData\\Local\\Continuum\\anaconda3\\envs\\py39\\lib\\site-packages\\scanpy\\tools\\_rank_genes_groups.py:420: PerformanceWarning: DataFrame is highly fragmented.  This is usually the result of calling `frame.insert` many times, which has poor performance.  Consider joining all columns at once using pd.concat(axis=1) instead. To get a de-fragmented frame, use `newframe = frame.copy()`\n",
      "  self.stats[group_name, 'logfoldchanges'] = np.log2(\n",
      "C:\\Users\\huyiz\\AppData\\Local\\Continuum\\anaconda3\\envs\\py39\\lib\\site-packages\\scanpy\\tools\\_rank_genes_groups.py:394: PerformanceWarning: DataFrame is highly fragmented.  This is usually the result of calling `frame.insert` many times, which has poor performance.  Consider joining all columns at once using pd.concat(axis=1) instead. To get a de-fragmented frame, use `newframe = frame.copy()`\n",
      "  self.stats[group_name, 'names'] = self.var_names[global_indices]\n",
      "C:\\Users\\huyiz\\AppData\\Local\\Continuum\\anaconda3\\envs\\py39\\lib\\site-packages\\scanpy\\tools\\_rank_genes_groups.py:396: PerformanceWarning: DataFrame is highly fragmented.  This is usually the result of calling `frame.insert` many times, which has poor performance.  Consider joining all columns at once using pd.concat(axis=1) instead. To get a de-fragmented frame, use `newframe = frame.copy()`\n",
      "  self.stats[group_name, 'scores'] = scores[global_indices]\n",
      "C:\\Users\\huyiz\\AppData\\Local\\Continuum\\anaconda3\\envs\\py39\\lib\\site-packages\\scanpy\\tools\\_rank_genes_groups.py:399: PerformanceWarning: DataFrame is highly fragmented.  This is usually the result of calling `frame.insert` many times, which has poor performance.  Consider joining all columns at once using pd.concat(axis=1) instead. To get a de-fragmented frame, use `newframe = frame.copy()`\n",
      "  self.stats[group_name, 'pvals'] = pvals[global_indices]\n",
      "C:\\Users\\huyiz\\AppData\\Local\\Continuum\\anaconda3\\envs\\py39\\lib\\site-packages\\scanpy\\tools\\_rank_genes_groups.py:409: PerformanceWarning: DataFrame is highly fragmented.  This is usually the result of calling `frame.insert` many times, which has poor performance.  Consider joining all columns at once using pd.concat(axis=1) instead. To get a de-fragmented frame, use `newframe = frame.copy()`\n",
      "  self.stats[group_name, 'pvals_adj'] = pvals_adj[global_indices]\n",
      "C:\\Users\\huyiz\\AppData\\Local\\Continuum\\anaconda3\\envs\\py39\\lib\\site-packages\\scanpy\\tools\\_rank_genes_groups.py:420: PerformanceWarning: DataFrame is highly fragmented.  This is usually the result of calling `frame.insert` many times, which has poor performance.  Consider joining all columns at once using pd.concat(axis=1) instead. To get a de-fragmented frame, use `newframe = frame.copy()`\n",
      "  self.stats[group_name, 'logfoldchanges'] = np.log2(\n",
      "C:\\Users\\huyiz\\AppData\\Local\\Continuum\\anaconda3\\envs\\py39\\lib\\site-packages\\scanpy\\tools\\_rank_genes_groups.py:394: PerformanceWarning: DataFrame is highly fragmented.  This is usually the result of calling `frame.insert` many times, which has poor performance.  Consider joining all columns at once using pd.concat(axis=1) instead. To get a de-fragmented frame, use `newframe = frame.copy()`\n",
      "  self.stats[group_name, 'names'] = self.var_names[global_indices]\n",
      "C:\\Users\\huyiz\\AppData\\Local\\Continuum\\anaconda3\\envs\\py39\\lib\\site-packages\\scanpy\\tools\\_rank_genes_groups.py:396: PerformanceWarning: DataFrame is highly fragmented.  This is usually the result of calling `frame.insert` many times, which has poor performance.  Consider joining all columns at once using pd.concat(axis=1) instead. To get a de-fragmented frame, use `newframe = frame.copy()`\n",
      "  self.stats[group_name, 'scores'] = scores[global_indices]\n",
      "C:\\Users\\huyiz\\AppData\\Local\\Continuum\\anaconda3\\envs\\py39\\lib\\site-packages\\scanpy\\tools\\_rank_genes_groups.py:399: PerformanceWarning: DataFrame is highly fragmented.  This is usually the result of calling `frame.insert` many times, which has poor performance.  Consider joining all columns at once using pd.concat(axis=1) instead. To get a de-fragmented frame, use `newframe = frame.copy()`\n",
      "  self.stats[group_name, 'pvals'] = pvals[global_indices]\n",
      "C:\\Users\\huyiz\\AppData\\Local\\Continuum\\anaconda3\\envs\\py39\\lib\\site-packages\\scanpy\\tools\\_rank_genes_groups.py:409: PerformanceWarning: DataFrame is highly fragmented.  This is usually the result of calling `frame.insert` many times, which has poor performance.  Consider joining all columns at once using pd.concat(axis=1) instead. To get a de-fragmented frame, use `newframe = frame.copy()`\n",
      "  self.stats[group_name, 'pvals_adj'] = pvals_adj[global_indices]\n",
      "C:\\Users\\huyiz\\AppData\\Local\\Continuum\\anaconda3\\envs\\py39\\lib\\site-packages\\scanpy\\tools\\_rank_genes_groups.py:420: PerformanceWarning: DataFrame is highly fragmented.  This is usually the result of calling `frame.insert` many times, which has poor performance.  Consider joining all columns at once using pd.concat(axis=1) instead. To get a de-fragmented frame, use `newframe = frame.copy()`\n",
      "  self.stats[group_name, 'logfoldchanges'] = np.log2(\n",
      "C:\\Users\\huyiz\\AppData\\Local\\Continuum\\anaconda3\\envs\\py39\\lib\\site-packages\\scanpy\\tools\\_rank_genes_groups.py:394: PerformanceWarning: DataFrame is highly fragmented.  This is usually the result of calling `frame.insert` many times, which has poor performance.  Consider joining all columns at once using pd.concat(axis=1) instead. To get a de-fragmented frame, use `newframe = frame.copy()`\n",
      "  self.stats[group_name, 'names'] = self.var_names[global_indices]\n",
      "C:\\Users\\huyiz\\AppData\\Local\\Continuum\\anaconda3\\envs\\py39\\lib\\site-packages\\scanpy\\tools\\_rank_genes_groups.py:396: PerformanceWarning: DataFrame is highly fragmented.  This is usually the result of calling `frame.insert` many times, which has poor performance.  Consider joining all columns at once using pd.concat(axis=1) instead. To get a de-fragmented frame, use `newframe = frame.copy()`\n",
      "  self.stats[group_name, 'scores'] = scores[global_indices]\n",
      "C:\\Users\\huyiz\\AppData\\Local\\Continuum\\anaconda3\\envs\\py39\\lib\\site-packages\\scanpy\\tools\\_rank_genes_groups.py:399: PerformanceWarning: DataFrame is highly fragmented.  This is usually the result of calling `frame.insert` many times, which has poor performance.  Consider joining all columns at once using pd.concat(axis=1) instead. To get a de-fragmented frame, use `newframe = frame.copy()`\n",
      "  self.stats[group_name, 'pvals'] = pvals[global_indices]\n",
      "C:\\Users\\huyiz\\AppData\\Local\\Continuum\\anaconda3\\envs\\py39\\lib\\site-packages\\scanpy\\tools\\_rank_genes_groups.py:409: PerformanceWarning: DataFrame is highly fragmented.  This is usually the result of calling `frame.insert` many times, which has poor performance.  Consider joining all columns at once using pd.concat(axis=1) instead. To get a de-fragmented frame, use `newframe = frame.copy()`\n",
      "  self.stats[group_name, 'pvals_adj'] = pvals_adj[global_indices]\n",
      "C:\\Users\\huyiz\\AppData\\Local\\Continuum\\anaconda3\\envs\\py39\\lib\\site-packages\\scanpy\\tools\\_rank_genes_groups.py:420: PerformanceWarning: DataFrame is highly fragmented.  This is usually the result of calling `frame.insert` many times, which has poor performance.  Consider joining all columns at once using pd.concat(axis=1) instead. To get a de-fragmented frame, use `newframe = frame.copy()`\n",
      "  self.stats[group_name, 'logfoldchanges'] = np.log2(\n",
      "C:\\Users\\huyiz\\AppData\\Local\\Continuum\\anaconda3\\envs\\py39\\lib\\site-packages\\scanpy\\tools\\_rank_genes_groups.py:394: PerformanceWarning: DataFrame is highly fragmented.  This is usually the result of calling `frame.insert` many times, which has poor performance.  Consider joining all columns at once using pd.concat(axis=1) instead. To get a de-fragmented frame, use `newframe = frame.copy()`\n",
      "  self.stats[group_name, 'names'] = self.var_names[global_indices]\n",
      "C:\\Users\\huyiz\\AppData\\Local\\Continuum\\anaconda3\\envs\\py39\\lib\\site-packages\\scanpy\\tools\\_rank_genes_groups.py:396: PerformanceWarning: DataFrame is highly fragmented.  This is usually the result of calling `frame.insert` many times, which has poor performance.  Consider joining all columns at once using pd.concat(axis=1) instead. To get a de-fragmented frame, use `newframe = frame.copy()`\n",
      "  self.stats[group_name, 'scores'] = scores[global_indices]\n",
      "C:\\Users\\huyiz\\AppData\\Local\\Continuum\\anaconda3\\envs\\py39\\lib\\site-packages\\scanpy\\tools\\_rank_genes_groups.py:399: PerformanceWarning: DataFrame is highly fragmented.  This is usually the result of calling `frame.insert` many times, which has poor performance.  Consider joining all columns at once using pd.concat(axis=1) instead. To get a de-fragmented frame, use `newframe = frame.copy()`\n",
      "  self.stats[group_name, 'pvals'] = pvals[global_indices]\n",
      "C:\\Users\\huyiz\\AppData\\Local\\Continuum\\anaconda3\\envs\\py39\\lib\\site-packages\\scanpy\\tools\\_rank_genes_groups.py:409: PerformanceWarning: DataFrame is highly fragmented.  This is usually the result of calling `frame.insert` many times, which has poor performance.  Consider joining all columns at once using pd.concat(axis=1) instead. To get a de-fragmented frame, use `newframe = frame.copy()`\n",
      "  self.stats[group_name, 'pvals_adj'] = pvals_adj[global_indices]\n",
      "C:\\Users\\huyiz\\AppData\\Local\\Continuum\\anaconda3\\envs\\py39\\lib\\site-packages\\scanpy\\tools\\_rank_genes_groups.py:420: PerformanceWarning: DataFrame is highly fragmented.  This is usually the result of calling `frame.insert` many times, which has poor performance.  Consider joining all columns at once using pd.concat(axis=1) instead. To get a de-fragmented frame, use `newframe = frame.copy()`\n",
      "  self.stats[group_name, 'logfoldchanges'] = np.log2(\n",
      "C:\\Users\\huyiz\\AppData\\Local\\Continuum\\anaconda3\\envs\\py39\\lib\\site-packages\\scanpy\\tools\\_rank_genes_groups.py:394: PerformanceWarning: DataFrame is highly fragmented.  This is usually the result of calling `frame.insert` many times, which has poor performance.  Consider joining all columns at once using pd.concat(axis=1) instead. To get a de-fragmented frame, use `newframe = frame.copy()`\n",
      "  self.stats[group_name, 'names'] = self.var_names[global_indices]\n",
      "C:\\Users\\huyiz\\AppData\\Local\\Continuum\\anaconda3\\envs\\py39\\lib\\site-packages\\scanpy\\tools\\_rank_genes_groups.py:396: PerformanceWarning: DataFrame is highly fragmented.  This is usually the result of calling `frame.insert` many times, which has poor performance.  Consider joining all columns at once using pd.concat(axis=1) instead. To get a de-fragmented frame, use `newframe = frame.copy()`\n",
      "  self.stats[group_name, 'scores'] = scores[global_indices]\n",
      "C:\\Users\\huyiz\\AppData\\Local\\Continuum\\anaconda3\\envs\\py39\\lib\\site-packages\\scanpy\\tools\\_rank_genes_groups.py:399: PerformanceWarning: DataFrame is highly fragmented.  This is usually the result of calling `frame.insert` many times, which has poor performance.  Consider joining all columns at once using pd.concat(axis=1) instead. To get a de-fragmented frame, use `newframe = frame.copy()`\n",
      "  self.stats[group_name, 'pvals'] = pvals[global_indices]\n",
      "C:\\Users\\huyiz\\AppData\\Local\\Continuum\\anaconda3\\envs\\py39\\lib\\site-packages\\scanpy\\tools\\_rank_genes_groups.py:409: PerformanceWarning: DataFrame is highly fragmented.  This is usually the result of calling `frame.insert` many times, which has poor performance.  Consider joining all columns at once using pd.concat(axis=1) instead. To get a de-fragmented frame, use `newframe = frame.copy()`\n",
      "  self.stats[group_name, 'pvals_adj'] = pvals_adj[global_indices]\n",
      "C:\\Users\\huyiz\\AppData\\Local\\Continuum\\anaconda3\\envs\\py39\\lib\\site-packages\\scanpy\\tools\\_rank_genes_groups.py:420: PerformanceWarning: DataFrame is highly fragmented.  This is usually the result of calling `frame.insert` many times, which has poor performance.  Consider joining all columns at once using pd.concat(axis=1) instead. To get a de-fragmented frame, use `newframe = frame.copy()`\n",
      "  self.stats[group_name, 'logfoldchanges'] = np.log2(\n",
      "C:\\Users\\huyiz\\AppData\\Local\\Continuum\\anaconda3\\envs\\py39\\lib\\site-packages\\scanpy\\tools\\_rank_genes_groups.py:394: PerformanceWarning: DataFrame is highly fragmented.  This is usually the result of calling `frame.insert` many times, which has poor performance.  Consider joining all columns at once using pd.concat(axis=1) instead. To get a de-fragmented frame, use `newframe = frame.copy()`\n",
      "  self.stats[group_name, 'names'] = self.var_names[global_indices]\n",
      "C:\\Users\\huyiz\\AppData\\Local\\Continuum\\anaconda3\\envs\\py39\\lib\\site-packages\\scanpy\\tools\\_rank_genes_groups.py:396: PerformanceWarning: DataFrame is highly fragmented.  This is usually the result of calling `frame.insert` many times, which has poor performance.  Consider joining all columns at once using pd.concat(axis=1) instead. To get a de-fragmented frame, use `newframe = frame.copy()`\n",
      "  self.stats[group_name, 'scores'] = scores[global_indices]\n",
      "C:\\Users\\huyiz\\AppData\\Local\\Continuum\\anaconda3\\envs\\py39\\lib\\site-packages\\scanpy\\tools\\_rank_genes_groups.py:399: PerformanceWarning: DataFrame is highly fragmented.  This is usually the result of calling `frame.insert` many times, which has poor performance.  Consider joining all columns at once using pd.concat(axis=1) instead. To get a de-fragmented frame, use `newframe = frame.copy()`\n",
      "  self.stats[group_name, 'pvals'] = pvals[global_indices]\n",
      "C:\\Users\\huyiz\\AppData\\Local\\Continuum\\anaconda3\\envs\\py39\\lib\\site-packages\\scanpy\\tools\\_rank_genes_groups.py:409: PerformanceWarning: DataFrame is highly fragmented.  This is usually the result of calling `frame.insert` many times, which has poor performance.  Consider joining all columns at once using pd.concat(axis=1) instead. To get a de-fragmented frame, use `newframe = frame.copy()`\n",
      "  self.stats[group_name, 'pvals_adj'] = pvals_adj[global_indices]\n",
      "C:\\Users\\huyiz\\AppData\\Local\\Continuum\\anaconda3\\envs\\py39\\lib\\site-packages\\scanpy\\tools\\_rank_genes_groups.py:420: PerformanceWarning: DataFrame is highly fragmented.  This is usually the result of calling `frame.insert` many times, which has poor performance.  Consider joining all columns at once using pd.concat(axis=1) instead. To get a de-fragmented frame, use `newframe = frame.copy()`\n",
      "  self.stats[group_name, 'logfoldchanges'] = np.log2(\n",
      "C:\\Users\\huyiz\\AppData\\Local\\Continuum\\anaconda3\\envs\\py39\\lib\\site-packages\\scanpy\\tools\\_rank_genes_groups.py:394: PerformanceWarning: DataFrame is highly fragmented.  This is usually the result of calling `frame.insert` many times, which has poor performance.  Consider joining all columns at once using pd.concat(axis=1) instead. To get a de-fragmented frame, use `newframe = frame.copy()`\n",
      "  self.stats[group_name, 'names'] = self.var_names[global_indices]\n",
      "C:\\Users\\huyiz\\AppData\\Local\\Continuum\\anaconda3\\envs\\py39\\lib\\site-packages\\scanpy\\tools\\_rank_genes_groups.py:396: PerformanceWarning: DataFrame is highly fragmented.  This is usually the result of calling `frame.insert` many times, which has poor performance.  Consider joining all columns at once using pd.concat(axis=1) instead. To get a de-fragmented frame, use `newframe = frame.copy()`\n",
      "  self.stats[group_name, 'scores'] = scores[global_indices]\n",
      "C:\\Users\\huyiz\\AppData\\Local\\Continuum\\anaconda3\\envs\\py39\\lib\\site-packages\\scanpy\\tools\\_rank_genes_groups.py:399: PerformanceWarning: DataFrame is highly fragmented.  This is usually the result of calling `frame.insert` many times, which has poor performance.  Consider joining all columns at once using pd.concat(axis=1) instead. To get a de-fragmented frame, use `newframe = frame.copy()`\n",
      "  self.stats[group_name, 'pvals'] = pvals[global_indices]\n",
      "C:\\Users\\huyiz\\AppData\\Local\\Continuum\\anaconda3\\envs\\py39\\lib\\site-packages\\scanpy\\tools\\_rank_genes_groups.py:409: PerformanceWarning: DataFrame is highly fragmented.  This is usually the result of calling `frame.insert` many times, which has poor performance.  Consider joining all columns at once using pd.concat(axis=1) instead. To get a de-fragmented frame, use `newframe = frame.copy()`\n",
      "  self.stats[group_name, 'pvals_adj'] = pvals_adj[global_indices]\n",
      "C:\\Users\\huyiz\\AppData\\Local\\Continuum\\anaconda3\\envs\\py39\\lib\\site-packages\\scanpy\\tools\\_rank_genes_groups.py:420: PerformanceWarning: DataFrame is highly fragmented.  This is usually the result of calling `frame.insert` many times, which has poor performance.  Consider joining all columns at once using pd.concat(axis=1) instead. To get a de-fragmented frame, use `newframe = frame.copy()`\n",
      "  self.stats[group_name, 'logfoldchanges'] = np.log2(\n",
      "C:\\Users\\huyiz\\AppData\\Local\\Continuum\\anaconda3\\envs\\py39\\lib\\site-packages\\scanpy\\tools\\_rank_genes_groups.py:394: PerformanceWarning: DataFrame is highly fragmented.  This is usually the result of calling `frame.insert` many times, which has poor performance.  Consider joining all columns at once using pd.concat(axis=1) instead. To get a de-fragmented frame, use `newframe = frame.copy()`\n",
      "  self.stats[group_name, 'names'] = self.var_names[global_indices]\n",
      "C:\\Users\\huyiz\\AppData\\Local\\Continuum\\anaconda3\\envs\\py39\\lib\\site-packages\\scanpy\\tools\\_rank_genes_groups.py:396: PerformanceWarning: DataFrame is highly fragmented.  This is usually the result of calling `frame.insert` many times, which has poor performance.  Consider joining all columns at once using pd.concat(axis=1) instead. To get a de-fragmented frame, use `newframe = frame.copy()`\n",
      "  self.stats[group_name, 'scores'] = scores[global_indices]\n",
      "C:\\Users\\huyiz\\AppData\\Local\\Continuum\\anaconda3\\envs\\py39\\lib\\site-packages\\scanpy\\tools\\_rank_genes_groups.py:399: PerformanceWarning: DataFrame is highly fragmented.  This is usually the result of calling `frame.insert` many times, which has poor performance.  Consider joining all columns at once using pd.concat(axis=1) instead. To get a de-fragmented frame, use `newframe = frame.copy()`\n",
      "  self.stats[group_name, 'pvals'] = pvals[global_indices]\n",
      "C:\\Users\\huyiz\\AppData\\Local\\Continuum\\anaconda3\\envs\\py39\\lib\\site-packages\\scanpy\\tools\\_rank_genes_groups.py:409: PerformanceWarning: DataFrame is highly fragmented.  This is usually the result of calling `frame.insert` many times, which has poor performance.  Consider joining all columns at once using pd.concat(axis=1) instead. To get a de-fragmented frame, use `newframe = frame.copy()`\n",
      "  self.stats[group_name, 'pvals_adj'] = pvals_adj[global_indices]\n",
      "C:\\Users\\huyiz\\AppData\\Local\\Continuum\\anaconda3\\envs\\py39\\lib\\site-packages\\scanpy\\tools\\_rank_genes_groups.py:420: PerformanceWarning: DataFrame is highly fragmented.  This is usually the result of calling `frame.insert` many times, which has poor performance.  Consider joining all columns at once using pd.concat(axis=1) instead. To get a de-fragmented frame, use `newframe = frame.copy()`\n",
      "  self.stats[group_name, 'logfoldchanges'] = np.log2(\n",
      "C:\\Users\\huyiz\\AppData\\Local\\Continuum\\anaconda3\\envs\\py39\\lib\\site-packages\\scanpy\\tools\\_rank_genes_groups.py:394: PerformanceWarning: DataFrame is highly fragmented.  This is usually the result of calling `frame.insert` many times, which has poor performance.  Consider joining all columns at once using pd.concat(axis=1) instead. To get a de-fragmented frame, use `newframe = frame.copy()`\n",
      "  self.stats[group_name, 'names'] = self.var_names[global_indices]\n",
      "C:\\Users\\huyiz\\AppData\\Local\\Continuum\\anaconda3\\envs\\py39\\lib\\site-packages\\scanpy\\tools\\_rank_genes_groups.py:396: PerformanceWarning: DataFrame is highly fragmented.  This is usually the result of calling `frame.insert` many times, which has poor performance.  Consider joining all columns at once using pd.concat(axis=1) instead. To get a de-fragmented frame, use `newframe = frame.copy()`\n",
      "  self.stats[group_name, 'scores'] = scores[global_indices]\n",
      "C:\\Users\\huyiz\\AppData\\Local\\Continuum\\anaconda3\\envs\\py39\\lib\\site-packages\\scanpy\\tools\\_rank_genes_groups.py:399: PerformanceWarning: DataFrame is highly fragmented.  This is usually the result of calling `frame.insert` many times, which has poor performance.  Consider joining all columns at once using pd.concat(axis=1) instead. To get a de-fragmented frame, use `newframe = frame.copy()`\n",
      "  self.stats[group_name, 'pvals'] = pvals[global_indices]\n",
      "C:\\Users\\huyiz\\AppData\\Local\\Continuum\\anaconda3\\envs\\py39\\lib\\site-packages\\scanpy\\tools\\_rank_genes_groups.py:409: PerformanceWarning: DataFrame is highly fragmented.  This is usually the result of calling `frame.insert` many times, which has poor performance.  Consider joining all columns at once using pd.concat(axis=1) instead. To get a de-fragmented frame, use `newframe = frame.copy()`\n",
      "  self.stats[group_name, 'pvals_adj'] = pvals_adj[global_indices]\n",
      "C:\\Users\\huyiz\\AppData\\Local\\Continuum\\anaconda3\\envs\\py39\\lib\\site-packages\\scanpy\\tools\\_rank_genes_groups.py:420: PerformanceWarning: DataFrame is highly fragmented.  This is usually the result of calling `frame.insert` many times, which has poor performance.  Consider joining all columns at once using pd.concat(axis=1) instead. To get a de-fragmented frame, use `newframe = frame.copy()`\n",
      "  self.stats[group_name, 'logfoldchanges'] = np.log2(\n",
      "C:\\Users\\huyiz\\AppData\\Local\\Continuum\\anaconda3\\envs\\py39\\lib\\site-packages\\scanpy\\tools\\_rank_genes_groups.py:394: PerformanceWarning: DataFrame is highly fragmented.  This is usually the result of calling `frame.insert` many times, which has poor performance.  Consider joining all columns at once using pd.concat(axis=1) instead. To get a de-fragmented frame, use `newframe = frame.copy()`\n",
      "  self.stats[group_name, 'names'] = self.var_names[global_indices]\n",
      "C:\\Users\\huyiz\\AppData\\Local\\Continuum\\anaconda3\\envs\\py39\\lib\\site-packages\\scanpy\\tools\\_rank_genes_groups.py:396: PerformanceWarning: DataFrame is highly fragmented.  This is usually the result of calling `frame.insert` many times, which has poor performance.  Consider joining all columns at once using pd.concat(axis=1) instead. To get a de-fragmented frame, use `newframe = frame.copy()`\n",
      "  self.stats[group_name, 'scores'] = scores[global_indices]\n",
      "C:\\Users\\huyiz\\AppData\\Local\\Continuum\\anaconda3\\envs\\py39\\lib\\site-packages\\scanpy\\tools\\_rank_genes_groups.py:399: PerformanceWarning: DataFrame is highly fragmented.  This is usually the result of calling `frame.insert` many times, which has poor performance.  Consider joining all columns at once using pd.concat(axis=1) instead. To get a de-fragmented frame, use `newframe = frame.copy()`\n",
      "  self.stats[group_name, 'pvals'] = pvals[global_indices]\n",
      "C:\\Users\\huyiz\\AppData\\Local\\Continuum\\anaconda3\\envs\\py39\\lib\\site-packages\\scanpy\\tools\\_rank_genes_groups.py:409: PerformanceWarning: DataFrame is highly fragmented.  This is usually the result of calling `frame.insert` many times, which has poor performance.  Consider joining all columns at once using pd.concat(axis=1) instead. To get a de-fragmented frame, use `newframe = frame.copy()`\n",
      "  self.stats[group_name, 'pvals_adj'] = pvals_adj[global_indices]\n",
      "C:\\Users\\huyiz\\AppData\\Local\\Continuum\\anaconda3\\envs\\py39\\lib\\site-packages\\scanpy\\tools\\_rank_genes_groups.py:420: PerformanceWarning: DataFrame is highly fragmented.  This is usually the result of calling `frame.insert` many times, which has poor performance.  Consider joining all columns at once using pd.concat(axis=1) instead. To get a de-fragmented frame, use `newframe = frame.copy()`\n",
      "  self.stats[group_name, 'logfoldchanges'] = np.log2(\n",
      "C:\\Users\\huyiz\\AppData\\Local\\Continuum\\anaconda3\\envs\\py39\\lib\\site-packages\\scanpy\\tools\\_rank_genes_groups.py:394: PerformanceWarning: DataFrame is highly fragmented.  This is usually the result of calling `frame.insert` many times, which has poor performance.  Consider joining all columns at once using pd.concat(axis=1) instead. To get a de-fragmented frame, use `newframe = frame.copy()`\n",
      "  self.stats[group_name, 'names'] = self.var_names[global_indices]\n",
      "C:\\Users\\huyiz\\AppData\\Local\\Continuum\\anaconda3\\envs\\py39\\lib\\site-packages\\scanpy\\tools\\_rank_genes_groups.py:396: PerformanceWarning: DataFrame is highly fragmented.  This is usually the result of calling `frame.insert` many times, which has poor performance.  Consider joining all columns at once using pd.concat(axis=1) instead. To get a de-fragmented frame, use `newframe = frame.copy()`\n",
      "  self.stats[group_name, 'scores'] = scores[global_indices]\n",
      "C:\\Users\\huyiz\\AppData\\Local\\Continuum\\anaconda3\\envs\\py39\\lib\\site-packages\\scanpy\\tools\\_rank_genes_groups.py:399: PerformanceWarning: DataFrame is highly fragmented.  This is usually the result of calling `frame.insert` many times, which has poor performance.  Consider joining all columns at once using pd.concat(axis=1) instead. To get a de-fragmented frame, use `newframe = frame.copy()`\n",
      "  self.stats[group_name, 'pvals'] = pvals[global_indices]\n",
      "C:\\Users\\huyiz\\AppData\\Local\\Continuum\\anaconda3\\envs\\py39\\lib\\site-packages\\scanpy\\tools\\_rank_genes_groups.py:409: PerformanceWarning: DataFrame is highly fragmented.  This is usually the result of calling `frame.insert` many times, which has poor performance.  Consider joining all columns at once using pd.concat(axis=1) instead. To get a de-fragmented frame, use `newframe = frame.copy()`\n",
      "  self.stats[group_name, 'pvals_adj'] = pvals_adj[global_indices]\n",
      "C:\\Users\\huyiz\\AppData\\Local\\Continuum\\anaconda3\\envs\\py39\\lib\\site-packages\\scanpy\\tools\\_rank_genes_groups.py:420: PerformanceWarning: DataFrame is highly fragmented.  This is usually the result of calling `frame.insert` many times, which has poor performance.  Consider joining all columns at once using pd.concat(axis=1) instead. To get a de-fragmented frame, use `newframe = frame.copy()`\n",
      "  self.stats[group_name, 'logfoldchanges'] = np.log2(\n",
      "C:\\Users\\huyiz\\AppData\\Local\\Continuum\\anaconda3\\envs\\py39\\lib\\site-packages\\scanpy\\tools\\_rank_genes_groups.py:394: PerformanceWarning: DataFrame is highly fragmented.  This is usually the result of calling `frame.insert` many times, which has poor performance.  Consider joining all columns at once using pd.concat(axis=1) instead. To get a de-fragmented frame, use `newframe = frame.copy()`\n",
      "  self.stats[group_name, 'names'] = self.var_names[global_indices]\n",
      "C:\\Users\\huyiz\\AppData\\Local\\Continuum\\anaconda3\\envs\\py39\\lib\\site-packages\\scanpy\\tools\\_rank_genes_groups.py:396: PerformanceWarning: DataFrame is highly fragmented.  This is usually the result of calling `frame.insert` many times, which has poor performance.  Consider joining all columns at once using pd.concat(axis=1) instead. To get a de-fragmented frame, use `newframe = frame.copy()`\n",
      "  self.stats[group_name, 'scores'] = scores[global_indices]\n",
      "C:\\Users\\huyiz\\AppData\\Local\\Continuum\\anaconda3\\envs\\py39\\lib\\site-packages\\scanpy\\tools\\_rank_genes_groups.py:399: PerformanceWarning: DataFrame is highly fragmented.  This is usually the result of calling `frame.insert` many times, which has poor performance.  Consider joining all columns at once using pd.concat(axis=1) instead. To get a de-fragmented frame, use `newframe = frame.copy()`\n",
      "  self.stats[group_name, 'pvals'] = pvals[global_indices]\n",
      "C:\\Users\\huyiz\\AppData\\Local\\Continuum\\anaconda3\\envs\\py39\\lib\\site-packages\\scanpy\\tools\\_rank_genes_groups.py:409: PerformanceWarning: DataFrame is highly fragmented.  This is usually the result of calling `frame.insert` many times, which has poor performance.  Consider joining all columns at once using pd.concat(axis=1) instead. To get a de-fragmented frame, use `newframe = frame.copy()`\n",
      "  self.stats[group_name, 'pvals_adj'] = pvals_adj[global_indices]\n",
      "C:\\Users\\huyiz\\AppData\\Local\\Continuum\\anaconda3\\envs\\py39\\lib\\site-packages\\scanpy\\tools\\_rank_genes_groups.py:420: PerformanceWarning: DataFrame is highly fragmented.  This is usually the result of calling `frame.insert` many times, which has poor performance.  Consider joining all columns at once using pd.concat(axis=1) instead. To get a de-fragmented frame, use `newframe = frame.copy()`\n",
      "  self.stats[group_name, 'logfoldchanges'] = np.log2(\n",
      "C:\\Users\\huyiz\\AppData\\Local\\Continuum\\anaconda3\\envs\\py39\\lib\\site-packages\\scanpy\\tools\\_rank_genes_groups.py:394: PerformanceWarning: DataFrame is highly fragmented.  This is usually the result of calling `frame.insert` many times, which has poor performance.  Consider joining all columns at once using pd.concat(axis=1) instead. To get a de-fragmented frame, use `newframe = frame.copy()`\n",
      "  self.stats[group_name, 'names'] = self.var_names[global_indices]\n",
      "C:\\Users\\huyiz\\AppData\\Local\\Continuum\\anaconda3\\envs\\py39\\lib\\site-packages\\scanpy\\tools\\_rank_genes_groups.py:396: PerformanceWarning: DataFrame is highly fragmented.  This is usually the result of calling `frame.insert` many times, which has poor performance.  Consider joining all columns at once using pd.concat(axis=1) instead. To get a de-fragmented frame, use `newframe = frame.copy()`\n",
      "  self.stats[group_name, 'scores'] = scores[global_indices]\n",
      "C:\\Users\\huyiz\\AppData\\Local\\Continuum\\anaconda3\\envs\\py39\\lib\\site-packages\\scanpy\\tools\\_rank_genes_groups.py:399: PerformanceWarning: DataFrame is highly fragmented.  This is usually the result of calling `frame.insert` many times, which has poor performance.  Consider joining all columns at once using pd.concat(axis=1) instead. To get a de-fragmented frame, use `newframe = frame.copy()`\n",
      "  self.stats[group_name, 'pvals'] = pvals[global_indices]\n",
      "C:\\Users\\huyiz\\AppData\\Local\\Continuum\\anaconda3\\envs\\py39\\lib\\site-packages\\scanpy\\tools\\_rank_genes_groups.py:409: PerformanceWarning: DataFrame is highly fragmented.  This is usually the result of calling `frame.insert` many times, which has poor performance.  Consider joining all columns at once using pd.concat(axis=1) instead. To get a de-fragmented frame, use `newframe = frame.copy()`\n",
      "  self.stats[group_name, 'pvals_adj'] = pvals_adj[global_indices]\n",
      "C:\\Users\\huyiz\\AppData\\Local\\Continuum\\anaconda3\\envs\\py39\\lib\\site-packages\\scanpy\\tools\\_rank_genes_groups.py:420: PerformanceWarning: DataFrame is highly fragmented.  This is usually the result of calling `frame.insert` many times, which has poor performance.  Consider joining all columns at once using pd.concat(axis=1) instead. To get a de-fragmented frame, use `newframe = frame.copy()`\n",
      "  self.stats[group_name, 'logfoldchanges'] = np.log2(\n"
     ]
    }
   ],
   "source": [
    "sc.tl.rank_genes_groups(swTF, 'Cluster', method='wilcoxon')\n",
    "#sc.pl.rank_genes_groups(adata, n_genes=5, sharey=False)"
   ]
  },
  {
   "cell_type": "code",
   "execution_count": 33,
   "metadata": {},
   "outputs": [],
   "source": [
    "adata=swTF"
   ]
  },
  {
   "cell_type": "code",
   "execution_count": 42,
   "metadata": {},
   "outputs": [],
   "source": [
    "result = adata.uns['rank_genes_groups']\n",
    "groups = result['names'].dtype.names\n",
    "df = pd.DataFrame(\n",
    "{group + '_' + key[:1]: result[key][group]\n",
    "for group in groups for key in ['names','logfoldchanges','pvals','pvals_adj']})\n",
    "#df.to_csv('Mouse-Macaque-Human_Cluster_Testfile.csv')\n",
    "df100=df.iloc[:2,:]\n",
    "genelist = []\n",
    "for i in range(0, df100.shape[1], 3):\n",
    "    genelist.extend(df100.iloc[:, i].values)\n",
    "dfmk = genelist\n",
    "markerlist = list(set(dfmk) & set(adata.var.index))"
   ]
  },
  {
   "cell_type": "code",
   "execution_count": 43,
   "metadata": {
    "scrolled": true
   },
   "outputs": [
    {
     "data": {
      "text/plain": [
       "70"
      ]
     },
     "execution_count": 43,
     "metadata": {},
     "output_type": "execute_result"
    }
   ],
   "source": [
    "len(markerlist)"
   ]
  },
  {
   "cell_type": "code",
   "execution_count": null,
   "metadata": {},
   "outputs": [],
   "source": []
  },
  {
   "cell_type": "code",
   "execution_count": 44,
   "metadata": {},
   "outputs": [],
   "source": [
    "clusterlist=[\n",
    "      'hPEP.V1/A1.1',\n",
    " 'hPEP.V1/A1.2',\n",
    " 'Macq_PEP1',\n",
    "     'PEP1_PSPEP5',  \n",
    "    'Sharma_CGRP-Beta',\n",
    "                     'PEP1_PSPEP2',\n",
    " 'Sharma_CGRP-Gamma',   \n",
    "     'PEP1_PSPEP4',\n",
    "     'Sharma_CGRP-Alpha',\n",
    "     'PEP1_PSPEP3',\n",
    " 'Sharma_CGRP-Epsilion',\n",
    "       'hPEP.0',\n",
    " 'hPEP.CHRNA7',\n",
    " 'hPEP.KIT','Macq_PEP2',\n",
    "         'Sharma_CGRP-Zeta',\n",
    "              'PEP2',\n",
    "             'hPEP.NTRK3',\n",
    " 'hPEP.PIEZO2h',\n",
    " 'Macq_PEP3',\n",
    "      'Sharma_CGRP-Eta',\n",
    "\n",
    "         \n",
    "   'hAb.LTMR',\n",
    "     'hAd.LTMR', \n",
    "    'Macq_A-LTMR', \n",
    "     'Sharma_Abeta-RA-LTMR',\n",
    " 'Sharma_Adelta-LTMR',\n",
    "    'NF1',\n",
    "    'Sharma_Abeta-Field',\n",
    "     'NF2_3',  \n",
    "     'hPropr',\n",
    " 'Sharma_Proprioceptors',\n",
    " 'NF4',\n",
    "         'hTRPM8',\n",
    " 'Macq_TrpM8',\n",
    "             'Sharma_TrpM8', \n",
    "              'TRPM8',\n",
    " 'hUN',\n",
    "    \n",
    " 'hNP1',          \n",
    " 'Macq_NP1',\n",
    "            \n",
    " 'Sharma_Nonpeptidergic nociceptors',\n",
    "      'NP1',\n",
    " 'hNP2',\n",
    " 'Macq_NP2',\n",
    " 'Sharma_CGRP-Theta',\n",
    "       'NP2',       \n",
    " 'hPEP.SST',\n",
    " 'Macq_NP3',\n",
    "              'Sharma_Sst',\n",
    "      'NP3',\n",
    "'hC.LTMR',\n",
    " 'Macq_C-LTMR',\n",
    "              'Sharma_C-LTMR',\n",
    "              'Th']"
   ]
  },
  {
   "cell_type": "code",
   "execution_count": 44,
   "metadata": {},
   "outputs": [],
   "source": [
    "scm.CamelEvo.SpeciesTFgenePatterns(adata=swTF, \n",
    "                           filepath=\"/Dropbox/data/proj/PE_HYZ/PublicDataSet/DRG_luo_Human/FinalCluster/AllTrainedDataset/Interpre/\",\n",
    "                          savefig=\"20230115SensoryNeuron_SpeciesTFgenePatterns_newfilter.png\")"
   ]
  },
  {
   "cell_type": "code",
   "execution_count": 45,
   "metadata": {},
   "outputs": [
    {
     "name": "stdout",
     "output_type": "stream",
     "text": [
      "F:\\Dropbox\\data\\proj\\PE_HYZ\\PublicDataSet\\DRG_luo_Human\\FinalCluster\\AllTrainedDataset\\Interpre\n"
     ]
    }
   ],
   "source": [
    "ddscm.CamelEvo.SpeciesTFgenePatterns(adata=swTF, clusterlist=clusterlist,\n",
    "                           filepath=\"/Dropbox/data/proj/PE_HYZ/PublicDataSet/DRG_luo_Human/FinalCluster/AllTrainedDataset/Interpre/\",\n",
    "                          savefig=\"20230115SensoryNeuron_SpeciesTFgenePatterns_ordered_newfilter.png\")"
   ]
  },
  {
   "cell_type": "code",
   "execution_count": 48,
   "metadata": {},
   "outputs": [
    {
     "data": {
      "text/plain": [
       "array(['ACAA1_+GRN', 'ADNP_+GRN', 'AKR1A1_+GRN', 'ANXA1_+GRN',\n",
       "       'ARG2_+GRN', 'ARID3C_+GRN', 'ARID5B_+GRN', 'ARNT_+GRN',\n",
       "       'ASAP3_+GRN', 'ATF3_+GRN', 'ATF4_+GRN', 'ATF5_+GRN', 'BBX_+GRN',\n",
       "       'BCL11A_+GRN', 'BCL11B_+GRN', 'BNC2_+GRN', 'CBFB_+GRN',\n",
       "       'CREB3L4_+GRN', 'CREB5_+GRN', 'CYB5R1_+GRN', 'CYCS_+GRN',\n",
       "       'DEAF1_+GRN', 'DUSP26_+GRN', 'EBF1_+GRN', 'ECSIT_+GRN',\n",
       "       'EIF5A2_+GRN', 'ESRRG_+GRN', 'ETV1_+GRN', 'ETV5_+GRN', 'EZR_+GRN',\n",
       "       'FEZ1_+GRN', 'FHL2_+GRN', 'FOS_+GRN', 'FOXP2_+GRN', 'GOT1_+GRN',\n",
       "       'GRHPR_+GRN', 'GTF2F1_+GRN', 'GZF1_+GRN', 'HES2_+GRN',\n",
       "       'HOXB6_+GRN', 'ID4_+GRN', 'ISL1_+GRN', 'ISL2_+GRN', 'JAZF1_+GRN',\n",
       "       'JUNB_+GRN', 'JUND_+GRN', 'KLF5_+GRN', 'KLF6_+GRN', 'KLF7_+GRN',\n",
       "       'KLF9_+GRN', 'LARP1_+GRN', 'LCORL_+GRN', 'LUZP1_+GRN',\n",
       "       'MBNL2_+GRN', 'MCTP2_+GRN', 'MEF2C_+GRN', 'MTHFD1_+GRN',\n",
       "       'MYCN_+GRN', 'NCALD_+GRN', 'NCOR1_+GRN', 'NFE2L1_+GRN',\n",
       "       'NFIA_+GRN', 'NMRAL1_+GRN', 'NPDC1_+GRN', 'ONECUT2_+GRN',\n",
       "       'PARP1_+GRN', 'PBX1_+GRN', 'PBX3_+GRN', 'PHLDA2_+GRN', 'PKM_+GRN',\n",
       "       'POLR3A_+GRN', 'POU4F2_+GRN', 'POU4F3_+GRN', 'PRDX5_+GRN',\n",
       "       'PRNP_+GRN', 'PRRX2_+GRN', 'PURA_+GRN', 'RPL6_+GRN', 'RPS4X_+GRN',\n",
       "       'RUNX1_+GRN', 'RUNX3_+GRN', 'SALL2_+GRN', 'SFT2D1_+GRN',\n",
       "       'SHOX2_+GRN', 'SKOR2_+GRN', 'SMAD1_+GRN', 'SMAD2_+GRN',\n",
       "       'SMPX_+GRN', 'SOD1_+GRN', 'SOX4_+GRN', 'SSBP3_+GRN', 'STAT3_+GRN',\n",
       "       'STAT4_+GRN', 'SUCLG1_+GRN', 'TBX19_+GRN', 'TBX3_+GRN',\n",
       "       'TCF4_+GRN', 'THRA_+GRN', 'TIMELESS_+GRN', 'TLX3_+GRN',\n",
       "       'TMEM33_+GRN', 'TRIM24_+GRN', 'U2AF1_+GRN', 'UQCRB_+GRN',\n",
       "       'VPS4B_+GRN', 'YBX1_+GRN', 'ZBTB20_+GRN', 'ZBTB38_+GRN',\n",
       "       'ZEB2_+GRN', 'ZNF121_+GRN', 'ZNF483_+GRN', 'ZNF521_+GRN',\n",
       "       'ZNF558_+GRN', 'ZNF706_+GRN', 'ZNF791_+GRN'], dtype='<U13')"
      ]
     },
     "execution_count": 48,
     "metadata": {},
     "output_type": "execute_result"
    }
   ],
   "source": [
    "sort(swTF.var.index.tolist())"
   ]
  },
  {
   "cell_type": "code",
   "execution_count": 62,
   "metadata": {},
   "outputs": [
    {
     "data": {
      "text/plain": [
       "77"
      ]
     },
     "execution_count": 62,
     "metadata": {},
     "output_type": "execute_result"
    }
   ],
   "source": [
    "tflist=[ 'ADNP_+GRN',  'ANXA1_+GRN',\n",
    "       'ARNT_+GRN',\n",
    "       'ASAP3_+GRN',  'ATF5_+GRN', 'BBX_+GRN',\n",
    "       'BCL11A_+GRN', 'BCL11B_+GRN', 'BNC2_+GRN', 'CBFB_+GRN',\n",
    "      'CREB5_+GRN', 'CYB5R1_+GRN',\n",
    "       'DEAF1_+GRN', 'DUSP26_+GRN', 'EBF1_+GRN', \n",
    "     'ESRRG_+GRN', 'ETV1_+GRN', 'ETV5_+GRN', 'EZR_+GRN',\n",
    "       'FEZ1_+GRN', 'FHL2_+GRN', 'FOXP2_+GRN', 'GOT1_+GRN',\n",
    "       'GRHPR_+GRN', \n",
    "      'ID4_+GRN', 'ISL1_+GRN', 'ISL2_+GRN', 'JAZF1_+GRN',\n",
    "    'JUND_+GRN',  'KLF6_+GRN', 'KLF7_+GRN',\n",
    "       'LARP1_+GRN','LUZP1_+GRN',\n",
    "     'MCTP2_+GRN', 'MEF2C_+GRN', \n",
    "       'MYCN_+GRN', 'NCALD_+GRN','NFE2L1_+GRN',\n",
    "       'NFIA_+GRN',  'NPDC1_+GRN', 'ONECUT2_+GRN',\n",
    "       'PARP1_+GRN', 'PBX1_+GRN', 'PBX3_+GRN','PKM_+GRN',\n",
    "      'POU4F2_+GRN', 'POU4F3_+GRN', 'PRDX5_+GRN',\n",
    "       'PRNP_+GRN', 'PRRX2_+GRN', 'PURA_+GRN', 'RPL6_+GRN', 'RPS4X_+GRN',\n",
    "       'RUNX1_+GRN', 'RUNX3_+GRN', 'SALL2_+GRN', \n",
    "       'SHOX2_+GRN', 'SKOR2_+GRN', 'SMAD1_+GRN',\n",
    "       'SMPX_+GRN', 'SOD1_+GRN',  'SSBP3_+GRN', 'STAT3_+GRN',\n",
    "        'TBX19_+GRN', 'TBX3_+GRN',\n",
    "       'TCF4_+GRN', 'THRA_+GRN', 'TIMELESS_+GRN', 'TLX3_+GRN',\n",
    "       'TMEM33_+GRN', 'TRIM24_+GRN', 'UQCRB_+GRN',\n",
    "  'ZBTB20_+GRN', 'ZBTB38_+GRN',\n",
    "       'ZEB2_+GRN',  'ZNF483_+GRN', 'ZNF521_+GRN']\n",
    "len(tflist)"
   ]
  },
  {
   "cell_type": "code",
   "execution_count": 63,
   "metadata": {},
   "outputs": [
    {
     "data": {
      "text/plain": [
       "View of AnnData object with n_obs × n_vars = 14739 × 77\n",
       "    obs: 'Cluster', 'mtrain_index', 'batch', 'color', 'Dataset'\n",
       "    uns: 'rank_genes_groups'"
      ]
     },
     "execution_count": 63,
     "metadata": {},
     "output_type": "execute_result"
    }
   ],
   "source": [
    "swTF=swTF[:,tflist]\n",
    "swTF"
   ]
  },
  {
   "cell_type": "code",
   "execution_count": 69,
   "metadata": {},
   "outputs": [],
   "source": [
    "def SpeciesTFgenePatterns2(adata, fontsizeWeight=0.65, clusterlist=None,tfindex=None,\n",
    "                           filepath=\"/Yizhou_KI_OneCloud/OneDrive - Karolinska Institutet/Datasets_Template/scCamel_result_files/\",\n",
    "                          savefig=\"SpeciesTFgenePatterns.png\"):\n",
    "    dfregscore=pd.DataFrame(adata.X)\n",
    "    dfregscore.index=adata.obs.index\n",
    "    dfregscore.columns=adata.var.index\n",
    "    dfregscore=dfregscore.join(adata.obs[\"Cluster\"],how=\"inner\")\n",
    "    dfscore=dfregscore.groupby([\"Cluster\"]).mean()\n",
    "    if clusterlist==None:\n",
    "        if tfindex==None:\n",
    "            plt.figure(figsize=(int(dfscore.shape[1]/4.5),int(dfscore.shape[0]/4.5)))\n",
    "            sns.set_style(\"white\")\n",
    "            sns.set(font_scale= fontsizeWeight)\n",
    "            sns.clustermap(dfscore,\n",
    "                           metric=\"correlation\",\n",
    "                           method=\"complete\",\n",
    "                           cmap=\"seismic\",\n",
    "                           row_cluster=True,\n",
    "                           col_cluster=True,\n",
    "                           z_score=0,figsize=(int(dfscore.shape[1]/4.5),int(dfscore.shape[0]/4.5)),\n",
    "                          )\n",
    "            #fig.set_size_inches(30, 15)\n",
    "            if savefig!=None:\n",
    "                savefile=filepath+savefig\n",
    "                plt.savefig(savefile)\n",
    "        else:\n",
    "            dfscore=dfscore.T.reindex(tfindex).dropna().T\n",
    "            plt.figure(figsize=(int(dfscore.shape[1]/4.5),int(dfscore.shape[0]/4.5)))\n",
    "            sns.set_style(\"white\")\n",
    "            sns.set(font_scale= fontsizeWeight)\n",
    "            sns.clustermap(dfscore,\n",
    "                           metric=\"correlation\",\n",
    "                           method=\"complete\",\n",
    "                           cmap=\"seismic\",\n",
    "                           row_cluster=False,\n",
    "                           col_cluster=False,\n",
    "                           z_score=0,figsize=(int(dfscore.shape[1]/4.5),int(dfscore.shape[0]/4.5)),\n",
    "                          )\n",
    "            #fig.set_size_inches(30, 15)\n",
    "            if savefig!=None:\n",
    "                savefile=filepath+savefig\n",
    "                plt.savefig(savefile)\n",
    "    else:\n",
    "        if tfindex==None:\n",
    "            dfscore=dfscore.reindex(clusterlist).dropna()\n",
    "            plt.figure(figsize=(int(dfscore.shape[1]/4.5),int(dfscore.shape[0]/4.5)))\n",
    "            sns.set_style(\"white\")\n",
    "            sns.set(font_scale= fontsizeWeight)\n",
    "            sns.clustermap(dfscore,\n",
    "                           metric=\"correlation\",\n",
    "                           method=\"complete\",\n",
    "                           cmap=\"seismic\",\n",
    "                           row_cluster=False,\n",
    "                           col_cluster=True,\n",
    "                           z_score=0,figsize=(int(dfscore.shape[1]/4.5),int(dfscore.shape[0]/4.5)),\n",
    "                          )\n",
    "            #fig.set_size_inches(30, 15)\n",
    "            if savefig!=None:\n",
    "                savefile=filepath+savefig\n",
    "                plt.savefig(savefile)\n",
    "        else:\n",
    "            dfscore=dfscore.T.reindex(tfindex).dropna().T\n",
    "            dfscore=dfscore.reindex(clusterlist).dropna()\n",
    "            plt.figure(figsize=(int(dfscore.shape[1]/4.5),int(dfscore.shape[0]/4.5)))\n",
    "            sns.set_style(\"white\")\n",
    "            sns.set(font_scale= fontsizeWeight)\n",
    "            sns.clustermap(dfscore,\n",
    "                           metric=\"correlation\",\n",
    "                           method=\"complete\",\n",
    "                           cmap=\"seismic\",\n",
    "                           row_cluster=False,\n",
    "                           col_cluster=False,\n",
    "                           z_score=0,figsize=(int(dfscore.shape[1]/4.5),int(dfscore.shape[0]/4.5)),\n",
    "                          )\n",
    "            #fig.set_size_inches(30, 15)\n",
    "            if savefig!=None:\n",
    "                savefile=filepath+savefig\n",
    "                plt.savefig(savefile)"
   ]
  },
  {
   "cell_type": "code",
   "execution_count": 81,
   "metadata": {},
   "outputs": [
    {
     "data": {
      "text/plain": [
       "72"
      ]
     },
     "execution_count": 81,
     "metadata": {},
     "output_type": "execute_result"
    }
   ],
   "source": [
    "tflist2=[ 'PRRX2_+GRN',   'TCF4_+GRN', 'ETV5_+GRN','BCL11B_+GRN',  'ZBTB20_+GRN',    'JUND_+GRN',\n",
    "         'THRA_+GRN','POU4F3_+GRN','SMAD1_+GRN', 'STAT3_+GRN','PURA_+GRN','EBF1_+GRN',  'KLF6_+GRN',\n",
    "         'ZEB2_+GRN',  'CREB5_+GRN', 'ZNF483_+GRN',  'ARNT_+GRN',   'BCL11A_+GRN','CBFB_+GRN','PKM_+GRN', 'CYB5R1_+GRN',\n",
    "         'EZR_+GRN', 'NPDC1_+GRN',    'ASAP3_+GRN',   'GRHPR_+GRN',    'TMEM33_+GRN',    'PBX1_+GRN',  'PARP1_+GRN',\n",
    "         'PRNP_+GRN',  'NFIA_+GRN', 'ONECUT2_+GRN','GOT1_+GRN',  'ESRRG_+GRN',   'SHOX2_+GRN',   'MCTP2_+GRN',\n",
    "        'RUNX3_+GRN','SMPX_+GRN',  'SKOR2_+GRN',  'TBX3_+GRN', 'MEF2C_+GRN', 'FOXP2_+GRN',   'ISL1_+GRN',\n",
    "         'RPL6_+GRN',  'RPS4X_+GRN',   'BNC2_+GRN', 'JAZF1_+GRN','ANXA1_+GRN','FHL2_+GRN',  'ADNP_+GRN',  'PBX3_+GRN',\n",
    "          'ETV1_+GRN', 'ISL2_+GRN', 'NCALD_+GRN', 'KLF7_+GRN', 'LARP1_+GRN',   'RUNX1_+GRN',   'TRIM24_+GRN',  'FEZ1_+GRN', \n",
    "   'SSBP3_+GRN','BBX_+GRN',  'ATF5_+GRN', 'DUSP26_+GRN',   'MYCN_+GRN',  'TIMELESS_+GRN', 'ZBTB38_+GRN',   'TBX19_+GRN',\n",
    "          'ID4_+GRN',  'DEAF1_+GRN',   'TLX3_+GRN',  'POU4F2_+GRN',   'LUZP1_+GRN', 'ZNF521_+GRN']\n",
    "len(tflist2)"
   ]
  },
  {
   "cell_type": "code",
   "execution_count": 84,
   "metadata": {},
   "outputs": [],
   "source": [
    "clusterlist=[\n",
    "      'hPEP.V1/A1.1',\n",
    " 'hPEP.V1/A1.2',\n",
    " 'Macq_PEP1',\n",
    "     'PEP1_PSPEP5',  \n",
    "    'Sharma_CGRP-Beta',\n",
    "                     'PEP1_PSPEP2',\n",
    " 'Sharma_CGRP-Gamma',   \n",
    "     'PEP1_PSPEP4',\n",
    "     'Sharma_CGRP-Alpha',\n",
    "     'PEP1_PSPEP3',\n",
    " 'Sharma_CGRP-Epsilion',\n",
    "       'hPEP.0',\n",
    " 'hPEP.CHRNA7',\n",
    " 'hPEP.KIT','Macq_PEP2',\n",
    "         'Sharma_CGRP-Zeta',\n",
    "              'PEP2',\n",
    "             'hPEP.NTRK3',\n",
    " 'hPEP.PIEZO2h',\n",
    " 'Macq_PEP3',\n",
    "      'Sharma_CGRP-Eta',\n",
    "\n",
    "         \n",
    "   'hAb.LTMR',\n",
    "     'hAd.LTMR', \n",
    "    'Macq_A-LTMR', \n",
    "     'Sharma_Abeta-RA-LTMR',\n",
    " 'Sharma_Adelta-LTMR',\n",
    "    'NF1',\n",
    "    'Sharma_Abeta-Field',\n",
    "     'NF2_3',  \n",
    "     'hPropr',\n",
    " 'Sharma_Proprioceptors',\n",
    " 'NF4',\n",
    "     'hUN',\n",
    "         'hTRPM8',\n",
    " 'Macq_TrpM8',\n",
    "             'Sharma_TrpM8', \n",
    "              'TRPM8',\n",
    "\n",
    "    \n",
    " 'hNP1',          \n",
    " 'Macq_NP1',\n",
    "            \n",
    " 'Sharma_Nonpeptidergic nociceptors',\n",
    "      'NP1',\n",
    " 'hNP2',\n",
    " 'Macq_NP2',\n",
    " 'Sharma_CGRP-Theta',\n",
    "       'NP2',       \n",
    " 'hPEP.SST',\n",
    " 'Macq_NP3',\n",
    "              'Sharma_Sst',\n",
    "      'NP3',\n",
    "'hC.LTMR',\n",
    " 'Macq_C-LTMR',\n",
    "              'Sharma_C-LTMR',\n",
    "              'Th']"
   ]
  },
  {
   "cell_type": "code",
   "execution_count": 117,
   "metadata": {},
   "outputs": [
    {
     "data": {
      "text/plain": [
       "View of AnnData object with n_obs × n_vars = 14739 × 77\n",
       "    obs: 'Cluster', 'mtrain_index', 'batch', 'color', 'Dataset'\n",
       "    uns: 'rank_genes_groups'"
      ]
     },
     "execution_count": 117,
     "metadata": {},
     "output_type": "execute_result"
    }
   ],
   "source": [
    "swTF"
   ]
  },
  {
   "cell_type": "code",
   "execution_count": 118,
   "metadata": {},
   "outputs": [
    {
     "data": {
      "text/plain": [
       "View of AnnData object with n_obs × n_vars = 13161 × 77\n",
       "    obs: 'Cluster', 'mtrain_index', 'batch', 'color', 'Dataset'\n",
       "    uns: 'rank_genes_groups'"
      ]
     },
     "execution_count": 118,
     "metadata": {},
     "output_type": "execute_result"
    }
   ],
   "source": [
    "swTF2=swTF[swTF.obs[\"Dataset\"]!=\"ZeiselMouse\"]\n",
    "swTF2"
   ]
  },
  {
   "cell_type": "code",
   "execution_count": 119,
   "metadata": {},
   "outputs": [
    {
     "data": {
      "text/plain": [
       "array(['hPEP.V1/A1.1', 'hPEP.V1/A1.2', 'Macq_PEP1', 'Sharma_CGRP-Beta',\n",
       "       'Sharma_CGRP-Gamma', 'Sharma_CGRP-Alpha', 'Sharma_CGRP-Epsilion',\n",
       "       'hPEP.0', 'hPEP.CHRNA7', 'hPEP.KIT', 'Macq_PEP2',\n",
       "       'Sharma_CGRP-Zeta', 'hPEP.NTRK3', 'hPEP.PIEZO2h', 'Macq_PEP3',\n",
       "       'Sharma_CGRP-Eta', 'hAb.LTMR', 'hAd.LTMR', 'Macq_A-LTMR',\n",
       "       'Sharma_Abeta-RA-LTMR', 'Sharma_Adelta-LTMR', 'Sharma_Abeta-Field',\n",
       "       'hPropr', 'Sharma_Proprioceptors', 'hUN', 'hTRPM8', 'Macq_TrpM8',\n",
       "       'Sharma_TrpM8', 'hNP1', 'Macq_NP1',\n",
       "       'Sharma_Nonpeptidergic nociceptors', 'hNP2', 'Macq_NP2',\n",
       "       'Sharma_CGRP-Theta', 'hPEP.SST', 'Macq_NP3', 'Sharma_Sst',\n",
       "       'hC.LTMR', 'Macq_C-LTMR', 'Sharma_C-LTMR'], dtype='<U33')"
      ]
     },
     "execution_count": 119,
     "metadata": {},
     "output_type": "execute_result"
    }
   ],
   "source": [
    "alllist=np.array(clusterlist)\n",
    "alllist"
   ]
  },
  {
   "cell_type": "code",
   "execution_count": 120,
   "metadata": {},
   "outputs": [],
   "source": [
    "clusterlist=['hPEP.V1/A1.1', 'hPEP.V1/A1.2', 'Macq_PEP1', \n",
    "       'Sharma_CGRP-Beta',  'Sharma_CGRP-Gamma',\n",
    "   'Sharma_CGRP-Alpha', \n",
    "       'Sharma_CGRP-Epsilion', 'hPEP.0', 'hPEP.CHRNA7', 'hPEP.KIT',\n",
    "       'Macq_PEP2', 'Sharma_CGRP-Zeta',  'hPEP.NTRK3',\n",
    "       'hPEP.PIEZO2h', 'Macq_PEP3', 'Sharma_CGRP-Eta', 'hAb.LTMR',\n",
    "       'hAd.LTMR', 'Macq_A-LTMR', 'Sharma_Abeta-RA-LTMR',\n",
    "       'Sharma_Adelta-LTMR',  'Sharma_Abeta-Field',\n",
    "       'hPropr', 'Sharma_Proprioceptors', 'hUN', 'hTRPM8',\n",
    "       'Macq_TrpM8', 'Sharma_TrpM8', 'hNP1', 'Macq_NP1',\n",
    "       'Sharma_Nonpeptidergic nociceptors', 'hNP2', 'Macq_NP2',\n",
    "       'Sharma_CGRP-Theta', 'hPEP.SST', 'Macq_NP3', 'Sharma_Sst',\n",
    "       'hC.LTMR', 'Macq_C-LTMR', 'Sharma_C-LTMR']"
   ]
  },
  {
   "cell_type": "code",
   "execution_count": null,
   "metadata": {},
   "outputs": [],
   "source": []
  },
  {
   "cell_type": "code",
   "execution_count": 131,
   "metadata": {},
   "outputs": [
    {
     "data": {
      "text/plain": [
       "54"
      ]
     },
     "execution_count": 131,
     "metadata": {},
     "output_type": "execute_result"
    }
   ],
   "source": [
    "tflist5=[ 'ZBTB20_+GRN',    \n",
    "         'THRA_+GRN',\n",
    "         'ZEB2_+GRN',  \n",
    "         'ZNF483_+GRN',  'ARNT_+GRN',   'BCL11A_+GRN', 'PRRX2_+GRN',   'TCF4_+GRN', 'ETV5_+GRN','BCL11B_+GRN', \n",
    "     'SMAD1_+GRN', 'STAT3_+GRN',  'JUND_+GRN',\n",
    "         'TMEM33_+GRN',   \n",
    "         'PRNP_+GRN',  'NFIA_+GRN', 'ONECUT2_+GRN', 'PARP1_+GRN','GOT1_+GRN',  'ESRRG_+GRN',   'SHOX2_+GRN',   'MCTP2_+GRN',\n",
    "        'RUNX3_+GRN','SMPX_+GRN',  'SKOR2_+GRN',  'TBX3_+GRN', 'MEF2C_+GRN', 'FOXP2_+GRN',   'ISL1_+GRN',\n",
    "         'RPL6_+GRN',  'RPS4X_+GRN',  'KLF7_+GRN',  \n",
    " 'LARP1_+GRN',   'RUNX1_+GRN',  'ETV1_+GRN', 'ISL2_+GRN', 'NCALD_+GRN',  'BNC2_+GRN', 'JAZF1_+GRN','ANXA1_+GRN','FHL2_+GRN', \n",
    "         \n",
    "         \n",
    "         'BBX_+GRN',  'ATF5_+GRN', 'DUSP26_+GRN',   'MYCN_+GRN',  'TIMELESS_+GRN', 'ZBTB38_+GRN',  \n",
    "          'POU4F2_+GRN',   'LUZP1_+GRN', 'ZNF521_+GRN',  'TBX19_+GRN',\n",
    "          'ID4_+GRN',  'DEAF1_+GRN',   'TLX3_+GRN']\n",
    "len(tflist5)"
   ]
  },
  {
   "cell_type": "code",
   "execution_count": 134,
   "metadata": {
    "scrolled": false
   },
   "outputs": [
    {
     "data": {
      "text/plain": [
       "<Figure size 1200x800 with 0 Axes>"
      ]
     },
     "metadata": {},
     "output_type": "display_data"
    },
    {
     "data": {
      "image/png": "[encoded data removed]",
      "text/plain": [
       "<Figure size 1200x800 with 4 Axes>"
      ]
     },
     "metadata": {},
     "output_type": "display_data"
    }
   ],
   "source": [
    "SpeciesTFgenePatterns2(adata=swTF2, clusterlist=clusterlist,tfindex=tflist5,\n",
    "                           filepath=\"/Dropbox/data/proj/PE_HYZ/PublicDataSet/DRG_luo_Human/FinalCluster/AllTrainedDataset/Interpre/\",\n",
    "                          savefig=\"20230119SensoryNeuron_SpeciesTFgenePatterns_Filtered_Clusterordered_TFordered_revised2.svg\")"
   ]
  },
  {
   "cell_type": "code",
   "execution_count": 135,
   "metadata": {},
   "outputs": [
    {
     "name": "stdout",
     "output_type": "stream",
     "text": [
      "F:\\Dropbox\\data\\proj\\PE_HYZ\\PublicDataSet\\DRG_luo_Human\\FinalCluster\\AllTrainedDataset\\Interpre\n"
     ]
    }
   ],
   "source": [
    "cd F:\\Dropbox\\data\\proj\\PE_HYZ\\PublicDataSet\\DRG_luo_Human\\FinalCluster\\AllTrainedDataset\\Interpre"
   ]
  },
  {
   "cell_type": "code",
   "execution_count": 137,
   "metadata": {},
   "outputs": [],
   "source": [
    "dftf=pd.read_table(\"20221228AllSensoryNeuron_TF-GRNs-Top100associatedGenes_temp.txt\",index_col=0,header=0,sep=\"\\t\")"
   ]
  },
  {
   "cell_type": "code",
   "execution_count": 138,
   "metadata": {},
   "outputs": [
    {
     "data": {
      "text/html": [
       "<div>\n",
       "<style scoped>\n",
       "    .dataframe tbody tr th:only-of-type {\n",
       "        vertical-align: middle;\n",
       "    }\n",
       "\n",
       "    .dataframe tbody tr th {\n",
       "        vertical-align: top;\n",
       "    }\n",
       "\n",
       "    .dataframe thead th {\n",
       "        text-align: right;\n",
       "    }\n",
       "</style>\n",
       "<table border=\"1\" class=\"dataframe\">\n",
       "  <thead>\n",
       "    <tr style=\"text-align: right;\">\n",
       "      <th></th>\n",
       "      <th>SSBP3</th>\n",
       "      <th>MEF2C</th>\n",
       "      <th>BNC2</th>\n",
       "      <th>ADNP</th>\n",
       "      <th>EBF1</th>\n",
       "      <th>SOX4</th>\n",
       "      <th>FOS</th>\n",
       "      <th>TMEM33</th>\n",
       "      <th>PRRX2</th>\n",
       "      <th>KLF9</th>\n",
       "      <th>...</th>\n",
       "      <th>LARP1</th>\n",
       "      <th>ATF4</th>\n",
       "      <th>STAT4</th>\n",
       "      <th>CYCS</th>\n",
       "      <th>ID4</th>\n",
       "      <th>ASAP3</th>\n",
       "      <th>GRHPR</th>\n",
       "      <th>ZEB2</th>\n",
       "      <th>ARG2</th>\n",
       "      <th>PURA</th>\n",
       "    </tr>\n",
       "    <tr>\n",
       "      <th>Gene\\TF</th>\n",
       "      <th></th>\n",
       "      <th></th>\n",
       "      <th></th>\n",
       "      <th></th>\n",
       "      <th></th>\n",
       "      <th></th>\n",
       "      <th></th>\n",
       "      <th></th>\n",
       "      <th></th>\n",
       "      <th></th>\n",
       "      <th></th>\n",
       "      <th></th>\n",
       "      <th></th>\n",
       "      <th></th>\n",
       "      <th></th>\n",
       "      <th></th>\n",
       "      <th></th>\n",
       "      <th></th>\n",
       "      <th></th>\n",
       "      <th></th>\n",
       "      <th></th>\n",
       "    </tr>\n",
       "  </thead>\n",
       "  <tbody>\n",
       "    <tr>\n",
       "      <th>0</th>\n",
       "      <td>RGS4</td>\n",
       "      <td>CALB1</td>\n",
       "      <td>HSPA12A</td>\n",
       "      <td>ZNF483</td>\n",
       "      <td>GAP43</td>\n",
       "      <td>HPCAL1</td>\n",
       "      <td>JUNB</td>\n",
       "      <td>NPTX1</td>\n",
       "      <td>IGFBP5</td>\n",
       "      <td>RPS20</td>\n",
       "      <td>...</td>\n",
       "      <td>RGS4</td>\n",
       "      <td>KLF7</td>\n",
       "      <td>SKOR2</td>\n",
       "      <td>SFT2D1</td>\n",
       "      <td>EXOC1L</td>\n",
       "      <td>PRUNE2</td>\n",
       "      <td>PRUNE2</td>\n",
       "      <td>AQP1</td>\n",
       "      <td>CREB3L4</td>\n",
       "      <td>MTPN</td>\n",
       "    </tr>\n",
       "    <tr>\n",
       "      <th>1</th>\n",
       "      <td>SYT11</td>\n",
       "      <td>TBX3</td>\n",
       "      <td>LPO</td>\n",
       "      <td>FAM3B</td>\n",
       "      <td>DPYSL2</td>\n",
       "      <td>IFT122</td>\n",
       "      <td>POLR2K</td>\n",
       "      <td>TLCD4-RWDD3</td>\n",
       "      <td>ATP2A3</td>\n",
       "      <td>ARL8A</td>\n",
       "      <td>...</td>\n",
       "      <td>SYT11</td>\n",
       "      <td>PDGFA</td>\n",
       "      <td>WNT8B</td>\n",
       "      <td>RPS12</td>\n",
       "      <td>RARRES1</td>\n",
       "      <td>DOK6</td>\n",
       "      <td>UBL5</td>\n",
       "      <td>GAP43</td>\n",
       "      <td>SERINC4</td>\n",
       "      <td>GMFB</td>\n",
       "    </tr>\n",
       "    <tr>\n",
       "      <th>2</th>\n",
       "      <td>ISL2</td>\n",
       "      <td>NTRK2</td>\n",
       "      <td>GPAT2</td>\n",
       "      <td>MX1</td>\n",
       "      <td>GNB1</td>\n",
       "      <td>CTXN1</td>\n",
       "      <td>JUND</td>\n",
       "      <td>PCP4L1</td>\n",
       "      <td>HAP1</td>\n",
       "      <td>JUND</td>\n",
       "      <td>...</td>\n",
       "      <td>SYNPR</td>\n",
       "      <td>PSMC1</td>\n",
       "      <td>CYP2S1</td>\n",
       "      <td>MARCHF5</td>\n",
       "      <td>FERMT2</td>\n",
       "      <td>ABHD2</td>\n",
       "      <td>GSTP1</td>\n",
       "      <td>EBF1</td>\n",
       "      <td>SLC3A1</td>\n",
       "      <td>PLEKHB2</td>\n",
       "    </tr>\n",
       "    <tr>\n",
       "      <th>3</th>\n",
       "      <td>LARP1</td>\n",
       "      <td>GABRA4</td>\n",
       "      <td>CADM2</td>\n",
       "      <td>TREH</td>\n",
       "      <td>AQP1</td>\n",
       "      <td>PTMA</td>\n",
       "      <td>PCSK1N</td>\n",
       "      <td>THY1</td>\n",
       "      <td>FAM169B</td>\n",
       "      <td>SFR1</td>\n",
       "      <td>...</td>\n",
       "      <td>ADIPOR1</td>\n",
       "      <td>FAM189B</td>\n",
       "      <td>DCHS2</td>\n",
       "      <td>MARCHF11</td>\n",
       "      <td>PLPP2</td>\n",
       "      <td>XKR4</td>\n",
       "      <td>ANO5</td>\n",
       "      <td>PCSK1N</td>\n",
       "      <td>TCEAL7</td>\n",
       "      <td>AHI1</td>\n",
       "    </tr>\n",
       "    <tr>\n",
       "      <th>4</th>\n",
       "      <td>TLE1</td>\n",
       "      <td>CBLN2</td>\n",
       "      <td>SYS1-DBNDD2</td>\n",
       "      <td>EFHD1</td>\n",
       "      <td>PIRT</td>\n",
       "      <td>MAP1LC3A</td>\n",
       "      <td>STMP1</td>\n",
       "      <td>CPLX2</td>\n",
       "      <td>RPL6</td>\n",
       "      <td>SLC48A1</td>\n",
       "      <td>...</td>\n",
       "      <td>TMEM30A</td>\n",
       "      <td>HIGD1A</td>\n",
       "      <td>GABRA4</td>\n",
       "      <td>ATP5F1B</td>\n",
       "      <td>MYADM</td>\n",
       "      <td>C4orf50</td>\n",
       "      <td>RPL9</td>\n",
       "      <td>ADCYAP1</td>\n",
       "      <td>ZNF483</td>\n",
       "      <td>ARL8A</td>\n",
       "    </tr>\n",
       "    <tr>\n",
       "      <th>...</th>\n",
       "      <td>...</td>\n",
       "      <td>...</td>\n",
       "      <td>...</td>\n",
       "      <td>...</td>\n",
       "      <td>...</td>\n",
       "      <td>...</td>\n",
       "      <td>...</td>\n",
       "      <td>...</td>\n",
       "      <td>...</td>\n",
       "      <td>...</td>\n",
       "      <td>...</td>\n",
       "      <td>...</td>\n",
       "      <td>...</td>\n",
       "      <td>...</td>\n",
       "      <td>...</td>\n",
       "      <td>...</td>\n",
       "      <td>...</td>\n",
       "      <td>...</td>\n",
       "      <td>...</td>\n",
       "      <td>...</td>\n",
       "      <td>...</td>\n",
       "    </tr>\n",
       "    <tr>\n",
       "      <th>95</th>\n",
       "      <td>YAF2</td>\n",
       "      <td>NaN</td>\n",
       "      <td>CHRM4</td>\n",
       "      <td>HPCA</td>\n",
       "      <td>PEA15</td>\n",
       "      <td>NaN</td>\n",
       "      <td>NaN</td>\n",
       "      <td>HSPH1</td>\n",
       "      <td>NaN</td>\n",
       "      <td>NaN</td>\n",
       "      <td>...</td>\n",
       "      <td>KLF7</td>\n",
       "      <td>NaN</td>\n",
       "      <td>PGM3</td>\n",
       "      <td>NaN</td>\n",
       "      <td>NaN</td>\n",
       "      <td>SPHKAP</td>\n",
       "      <td>TARS3</td>\n",
       "      <td>BASP1</td>\n",
       "      <td>PRICKLE3</td>\n",
       "      <td>ZBTB20</td>\n",
       "    </tr>\n",
       "    <tr>\n",
       "      <th>96</th>\n",
       "      <td>FRYL</td>\n",
       "      <td>NaN</td>\n",
       "      <td>PBX3</td>\n",
       "      <td>NHSL2</td>\n",
       "      <td>NPTXR</td>\n",
       "      <td>NaN</td>\n",
       "      <td>NaN</td>\n",
       "      <td>ARF3</td>\n",
       "      <td>NaN</td>\n",
       "      <td>NaN</td>\n",
       "      <td>...</td>\n",
       "      <td>LDB2</td>\n",
       "      <td>NaN</td>\n",
       "      <td>SCN5A</td>\n",
       "      <td>NaN</td>\n",
       "      <td>NaN</td>\n",
       "      <td>FKBP9</td>\n",
       "      <td>NDUFS7</td>\n",
       "      <td>SON</td>\n",
       "      <td>MSANTD1</td>\n",
       "      <td>TSHZ2</td>\n",
       "    </tr>\n",
       "    <tr>\n",
       "      <th>97</th>\n",
       "      <td>KMT2D</td>\n",
       "      <td>NaN</td>\n",
       "      <td>EPHB1</td>\n",
       "      <td>CYP27A1</td>\n",
       "      <td>RBFOX1</td>\n",
       "      <td>NaN</td>\n",
       "      <td>NaN</td>\n",
       "      <td>TRIM2</td>\n",
       "      <td>NaN</td>\n",
       "      <td>NaN</td>\n",
       "      <td>...</td>\n",
       "      <td>PPP1R2B</td>\n",
       "      <td>NaN</td>\n",
       "      <td>CNTD1</td>\n",
       "      <td>NaN</td>\n",
       "      <td>NaN</td>\n",
       "      <td>SLC4A3</td>\n",
       "      <td>LPCAT4</td>\n",
       "      <td>USP22</td>\n",
       "      <td>ATP8A2</td>\n",
       "      <td>NRSN1</td>\n",
       "    </tr>\n",
       "    <tr>\n",
       "      <th>98</th>\n",
       "      <td>PRAF2</td>\n",
       "      <td>NaN</td>\n",
       "      <td>XKR4</td>\n",
       "      <td>SNX14</td>\n",
       "      <td>BEAN1</td>\n",
       "      <td>NaN</td>\n",
       "      <td>NaN</td>\n",
       "      <td>SCN8A</td>\n",
       "      <td>NaN</td>\n",
       "      <td>NaN</td>\n",
       "      <td>...</td>\n",
       "      <td>GFRA1</td>\n",
       "      <td>NaN</td>\n",
       "      <td>HACD4</td>\n",
       "      <td>NaN</td>\n",
       "      <td>NaN</td>\n",
       "      <td>CACNA1D</td>\n",
       "      <td>UBE2L6</td>\n",
       "      <td>VAMP2</td>\n",
       "      <td>TMLHE</td>\n",
       "      <td>WBP4</td>\n",
       "    </tr>\n",
       "    <tr>\n",
       "      <th>99</th>\n",
       "      <td>PDE4C</td>\n",
       "      <td>NaN</td>\n",
       "      <td>ABCG2</td>\n",
       "      <td>NCOA4</td>\n",
       "      <td>GNAL</td>\n",
       "      <td>NaN</td>\n",
       "      <td>NaN</td>\n",
       "      <td>B3GALT1</td>\n",
       "      <td>NaN</td>\n",
       "      <td>NaN</td>\n",
       "      <td>...</td>\n",
       "      <td>IFI27L2</td>\n",
       "      <td>NaN</td>\n",
       "      <td>SEPTIN11</td>\n",
       "      <td>NaN</td>\n",
       "      <td>NaN</td>\n",
       "      <td>ST8SIA5</td>\n",
       "      <td>PISD</td>\n",
       "      <td>KLHDC8A</td>\n",
       "      <td>FAM3B</td>\n",
       "      <td>NRXN1</td>\n",
       "    </tr>\n",
       "  </tbody>\n",
       "</table>\n",
       "<p>100 rows × 117 columns</p>\n",
       "</div>"
      ],
      "text/plain": [
       "         SSBP3   MEF2C         BNC2     ADNP    EBF1      SOX4     FOS  \\\n",
       "Gene\\TF                                                                  \n",
       "0         RGS4   CALB1      HSPA12A   ZNF483   GAP43    HPCAL1    JUNB   \n",
       "1        SYT11    TBX3          LPO    FAM3B  DPYSL2    IFT122  POLR2K   \n",
       "2         ISL2   NTRK2        GPAT2      MX1    GNB1     CTXN1    JUND   \n",
       "3        LARP1  GABRA4        CADM2     TREH    AQP1      PTMA  PCSK1N   \n",
       "4         TLE1   CBLN2  SYS1-DBNDD2    EFHD1    PIRT  MAP1LC3A   STMP1   \n",
       "...        ...     ...          ...      ...     ...       ...     ...   \n",
       "95        YAF2     NaN        CHRM4     HPCA   PEA15       NaN     NaN   \n",
       "96        FRYL     NaN         PBX3    NHSL2   NPTXR       NaN     NaN   \n",
       "97       KMT2D     NaN        EPHB1  CYP27A1  RBFOX1       NaN     NaN   \n",
       "98       PRAF2     NaN         XKR4    SNX14   BEAN1       NaN     NaN   \n",
       "99       PDE4C     NaN        ABCG2    NCOA4    GNAL       NaN     NaN   \n",
       "\n",
       "              TMEM33    PRRX2     KLF9  ...    LARP1     ATF4     STAT4  \\\n",
       "Gene\\TF                                 ...                               \n",
       "0              NPTX1   IGFBP5    RPS20  ...     RGS4     KLF7     SKOR2   \n",
       "1        TLCD4-RWDD3   ATP2A3    ARL8A  ...    SYT11    PDGFA     WNT8B   \n",
       "2             PCP4L1     HAP1     JUND  ...    SYNPR    PSMC1    CYP2S1   \n",
       "3               THY1  FAM169B     SFR1  ...  ADIPOR1  FAM189B     DCHS2   \n",
       "4              CPLX2     RPL6  SLC48A1  ...  TMEM30A   HIGD1A    GABRA4   \n",
       "...              ...      ...      ...  ...      ...      ...       ...   \n",
       "95             HSPH1      NaN      NaN  ...     KLF7      NaN      PGM3   \n",
       "96              ARF3      NaN      NaN  ...     LDB2      NaN     SCN5A   \n",
       "97             TRIM2      NaN      NaN  ...  PPP1R2B      NaN     CNTD1   \n",
       "98             SCN8A      NaN      NaN  ...    GFRA1      NaN     HACD4   \n",
       "99           B3GALT1      NaN      NaN  ...  IFI27L2      NaN  SEPTIN11   \n",
       "\n",
       "             CYCS      ID4    ASAP3   GRHPR     ZEB2      ARG2     PURA  \n",
       "Gene\\TF                                                                  \n",
       "0          SFT2D1   EXOC1L   PRUNE2  PRUNE2     AQP1   CREB3L4     MTPN  \n",
       "1           RPS12  RARRES1     DOK6    UBL5    GAP43   SERINC4     GMFB  \n",
       "2         MARCHF5   FERMT2    ABHD2   GSTP1     EBF1    SLC3A1  PLEKHB2  \n",
       "3        MARCHF11    PLPP2     XKR4    ANO5   PCSK1N    TCEAL7     AHI1  \n",
       "4         ATP5F1B    MYADM  C4orf50    RPL9  ADCYAP1    ZNF483    ARL8A  \n",
       "...           ...      ...      ...     ...      ...       ...      ...  \n",
       "95            NaN      NaN   SPHKAP   TARS3    BASP1  PRICKLE3   ZBTB20  \n",
       "96            NaN      NaN    FKBP9  NDUFS7      SON   MSANTD1    TSHZ2  \n",
       "97            NaN      NaN   SLC4A3  LPCAT4    USP22    ATP8A2    NRSN1  \n",
       "98            NaN      NaN  CACNA1D  UBE2L6    VAMP2     TMLHE     WBP4  \n",
       "99            NaN      NaN  ST8SIA5    PISD  KLHDC8A     FAM3B    NRXN1  \n",
       "\n",
       "[100 rows x 117 columns]"
      ]
     },
     "execution_count": 138,
     "metadata": {},
     "output_type": "execute_result"
    }
   ],
   "source": [
    "dftf"
   ]
  },
  {
   "cell_type": "code",
   "execution_count": 142,
   "metadata": {},
   "outputs": [],
   "source": [
    "clist=[]\n",
    "for item in tflist5:\n",
    "    clist.append(item.split(\"_\")[0])"
   ]
  },
  {
   "cell_type": "code",
   "execution_count": 143,
   "metadata": {},
   "outputs": [
    {
     "data": {
      "text/plain": [
       "['ZBTB20',\n",
       " 'THRA',\n",
       " 'ZEB2',\n",
       " 'ZNF483',\n",
       " 'ARNT',\n",
       " 'BCL11A',\n",
       " 'PRRX2',\n",
       " 'TCF4',\n",
       " 'ETV5',\n",
       " 'BCL11B',\n",
       " 'SMAD1',\n",
       " 'STAT3',\n",
       " 'JUND',\n",
       " 'TMEM33',\n",
       " 'PRNP',\n",
       " 'NFIA',\n",
       " 'ONECUT2',\n",
       " 'PARP1',\n",
       " 'GOT1',\n",
       " 'ESRRG',\n",
       " 'SHOX2',\n",
       " 'MCTP2',\n",
       " 'RUNX3',\n",
       " 'SMPX',\n",
       " 'SKOR2',\n",
       " 'TBX3',\n",
       " 'MEF2C',\n",
       " 'FOXP2',\n",
       " 'ISL1',\n",
       " 'RPL6',\n",
       " 'RPS4X',\n",
       " 'KLF7',\n",
       " 'LARP1',\n",
       " 'RUNX1',\n",
       " 'ETV1',\n",
       " 'ISL2',\n",
       " 'NCALD',\n",
       " 'BNC2',\n",
       " 'JAZF1',\n",
       " 'ANXA1',\n",
       " 'FHL2',\n",
       " 'BBX',\n",
       " 'ATF5',\n",
       " 'DUSP26',\n",
       " 'MYCN',\n",
       " 'TIMELESS',\n",
       " 'ZBTB38',\n",
       " 'POU4F2',\n",
       " 'LUZP1',\n",
       " 'ZNF521',\n",
       " 'TBX19',\n",
       " 'ID4',\n",
       " 'DEAF1',\n",
       " 'TLX3']"
      ]
     },
     "execution_count": 143,
     "metadata": {},
     "output_type": "execute_result"
    }
   ],
   "source": [
    "clist"
   ]
  },
  {
   "cell_type": "code",
   "execution_count": 144,
   "metadata": {},
   "outputs": [
    {
     "data": {
      "text/html": [
       "<div>\n",
       "<style scoped>\n",
       "    .dataframe tbody tr th:only-of-type {\n",
       "        vertical-align: middle;\n",
       "    }\n",
       "\n",
       "    .dataframe tbody tr th {\n",
       "        vertical-align: top;\n",
       "    }\n",
       "\n",
       "    .dataframe thead th {\n",
       "        text-align: right;\n",
       "    }\n",
       "</style>\n",
       "<table border=\"1\" class=\"dataframe\">\n",
       "  <thead>\n",
       "    <tr style=\"text-align: right;\">\n",
       "      <th></th>\n",
       "      <th>ZBTB20</th>\n",
       "      <th>THRA</th>\n",
       "      <th>ZEB2</th>\n",
       "      <th>ZNF483</th>\n",
       "      <th>ARNT</th>\n",
       "      <th>BCL11A</th>\n",
       "      <th>PRRX2</th>\n",
       "      <th>TCF4</th>\n",
       "      <th>ETV5</th>\n",
       "      <th>BCL11B</th>\n",
       "      <th>...</th>\n",
       "      <th>MYCN</th>\n",
       "      <th>TIMELESS</th>\n",
       "      <th>ZBTB38</th>\n",
       "      <th>POU4F2</th>\n",
       "      <th>LUZP1</th>\n",
       "      <th>ZNF521</th>\n",
       "      <th>TBX19</th>\n",
       "      <th>ID4</th>\n",
       "      <th>DEAF1</th>\n",
       "      <th>TLX3</th>\n",
       "    </tr>\n",
       "    <tr>\n",
       "      <th>Gene\\TF</th>\n",
       "      <th></th>\n",
       "      <th></th>\n",
       "      <th></th>\n",
       "      <th></th>\n",
       "      <th></th>\n",
       "      <th></th>\n",
       "      <th></th>\n",
       "      <th></th>\n",
       "      <th></th>\n",
       "      <th></th>\n",
       "      <th></th>\n",
       "      <th></th>\n",
       "      <th></th>\n",
       "      <th></th>\n",
       "      <th></th>\n",
       "      <th></th>\n",
       "      <th></th>\n",
       "      <th></th>\n",
       "      <th></th>\n",
       "      <th></th>\n",
       "      <th></th>\n",
       "    </tr>\n",
       "  </thead>\n",
       "  <tbody>\n",
       "    <tr>\n",
       "      <th>0</th>\n",
       "      <td>GAP43</td>\n",
       "      <td>JUND</td>\n",
       "      <td>AQP1</td>\n",
       "      <td>SCRG1</td>\n",
       "      <td>GOLM1</td>\n",
       "      <td>ADCY7</td>\n",
       "      <td>IGFBP5</td>\n",
       "      <td>TMC3</td>\n",
       "      <td>ETNK1</td>\n",
       "      <td>POU4F3</td>\n",
       "      <td>...</td>\n",
       "      <td>NTS</td>\n",
       "      <td>FSTL1</td>\n",
       "      <td>SON</td>\n",
       "      <td>P2RY1</td>\n",
       "      <td>LMO1</td>\n",
       "      <td>IQSEC2</td>\n",
       "      <td>COL9A2</td>\n",
       "      <td>EXOC1L</td>\n",
       "      <td>EXOC1L</td>\n",
       "      <td>EXOC1L</td>\n",
       "    </tr>\n",
       "    <tr>\n",
       "      <th>1</th>\n",
       "      <td>EBF1</td>\n",
       "      <td>ZBTB20</td>\n",
       "      <td>GAP43</td>\n",
       "      <td>GOLM1</td>\n",
       "      <td>TIGIT</td>\n",
       "      <td>CALY</td>\n",
       "      <td>ATP2A3</td>\n",
       "      <td>KLHL1</td>\n",
       "      <td>JUP</td>\n",
       "      <td>ZEB2</td>\n",
       "      <td>...</td>\n",
       "      <td>ADA</td>\n",
       "      <td>DUSP26</td>\n",
       "      <td>BEAN1</td>\n",
       "      <td>LINGO1</td>\n",
       "      <td>SCN1B</td>\n",
       "      <td>TOX3</td>\n",
       "      <td>GPC3</td>\n",
       "      <td>RARRES1</td>\n",
       "      <td>FKBP1B</td>\n",
       "      <td>CAMK1</td>\n",
       "    </tr>\n",
       "    <tr>\n",
       "      <th>2</th>\n",
       "      <td>RPL14</td>\n",
       "      <td>PCSK1N</td>\n",
       "      <td>EBF1</td>\n",
       "      <td>TMEM255B</td>\n",
       "      <td>ZNF483</td>\n",
       "      <td>SCGN</td>\n",
       "      <td>HAP1</td>\n",
       "      <td>CREB5</td>\n",
       "      <td>GAP43</td>\n",
       "      <td>NFE2L1</td>\n",
       "      <td>...</td>\n",
       "      <td>HTR1F</td>\n",
       "      <td>BEAN1</td>\n",
       "      <td>C5orf49</td>\n",
       "      <td>OSBPL1A</td>\n",
       "      <td>ZNF521</td>\n",
       "      <td>CCKAR</td>\n",
       "      <td>SH3RF2</td>\n",
       "      <td>FERMT2</td>\n",
       "      <td>CCDC107</td>\n",
       "      <td>CCDC107</td>\n",
       "    </tr>\n",
       "    <tr>\n",
       "      <th>3</th>\n",
       "      <td>PRPH</td>\n",
       "      <td>GAP43</td>\n",
       "      <td>PCSK1N</td>\n",
       "      <td>RGS9</td>\n",
       "      <td>NPFFR2</td>\n",
       "      <td>ATP1B1</td>\n",
       "      <td>FAM169B</td>\n",
       "      <td>IGFBP7</td>\n",
       "      <td>NWD2</td>\n",
       "      <td>EBF1</td>\n",
       "      <td>...</td>\n",
       "      <td>NPY2R</td>\n",
       "      <td>HTR1F</td>\n",
       "      <td>USP20</td>\n",
       "      <td>GPX2</td>\n",
       "      <td>PTPRE</td>\n",
       "      <td>TH</td>\n",
       "      <td>KCNJ6</td>\n",
       "      <td>PLPP2</td>\n",
       "      <td>ANO6</td>\n",
       "      <td>RARRES1</td>\n",
       "    </tr>\n",
       "    <tr>\n",
       "      <th>4</th>\n",
       "      <td>EEF2</td>\n",
       "      <td>RPL14</td>\n",
       "      <td>ADCYAP1</td>\n",
       "      <td>TIGIT</td>\n",
       "      <td>PROKR2</td>\n",
       "      <td>NPFFR2</td>\n",
       "      <td>RPL6</td>\n",
       "      <td>CD81</td>\n",
       "      <td>CYFIP2</td>\n",
       "      <td>RBFOX3</td>\n",
       "      <td>...</td>\n",
       "      <td>MRAS</td>\n",
       "      <td>NPY2R</td>\n",
       "      <td>TIMELESS</td>\n",
       "      <td>OSBPL6</td>\n",
       "      <td>IQSEC2</td>\n",
       "      <td>KIRREL3</td>\n",
       "      <td>NPNT</td>\n",
       "      <td>MYADM</td>\n",
       "      <td>PLD5</td>\n",
       "      <td>UNC50</td>\n",
       "    </tr>\n",
       "    <tr>\n",
       "      <th>...</th>\n",
       "      <td>...</td>\n",
       "      <td>...</td>\n",
       "      <td>...</td>\n",
       "      <td>...</td>\n",
       "      <td>...</td>\n",
       "      <td>...</td>\n",
       "      <td>...</td>\n",
       "      <td>...</td>\n",
       "      <td>...</td>\n",
       "      <td>...</td>\n",
       "      <td>...</td>\n",
       "      <td>...</td>\n",
       "      <td>...</td>\n",
       "      <td>...</td>\n",
       "      <td>...</td>\n",
       "      <td>...</td>\n",
       "      <td>...</td>\n",
       "      <td>...</td>\n",
       "      <td>...</td>\n",
       "      <td>...</td>\n",
       "      <td>...</td>\n",
       "    </tr>\n",
       "    <tr>\n",
       "      <th>95</th>\n",
       "      <td>SETD7</td>\n",
       "      <td>PTPRS</td>\n",
       "      <td>BASP1</td>\n",
       "      <td>ATN1</td>\n",
       "      <td>NaN</td>\n",
       "      <td>NaN</td>\n",
       "      <td>NaN</td>\n",
       "      <td>NaN</td>\n",
       "      <td>TRPV1</td>\n",
       "      <td>NaN</td>\n",
       "      <td>...</td>\n",
       "      <td>NaN</td>\n",
       "      <td>NaN</td>\n",
       "      <td>NaN</td>\n",
       "      <td>ANXA3</td>\n",
       "      <td>HARS1</td>\n",
       "      <td>NaN</td>\n",
       "      <td>NaN</td>\n",
       "      <td>NaN</td>\n",
       "      <td>NaN</td>\n",
       "      <td>NaN</td>\n",
       "    </tr>\n",
       "    <tr>\n",
       "      <th>96</th>\n",
       "      <td>CBARP</td>\n",
       "      <td>NFE2L1</td>\n",
       "      <td>SON</td>\n",
       "      <td>PNMA1</td>\n",
       "      <td>NaN</td>\n",
       "      <td>NaN</td>\n",
       "      <td>NaN</td>\n",
       "      <td>NaN</td>\n",
       "      <td>EPB41L3</td>\n",
       "      <td>NaN</td>\n",
       "      <td>...</td>\n",
       "      <td>NaN</td>\n",
       "      <td>NaN</td>\n",
       "      <td>NaN</td>\n",
       "      <td>TP53I11</td>\n",
       "      <td>HAPLN4</td>\n",
       "      <td>NaN</td>\n",
       "      <td>NaN</td>\n",
       "      <td>NaN</td>\n",
       "      <td>NaN</td>\n",
       "      <td>NaN</td>\n",
       "    </tr>\n",
       "    <tr>\n",
       "      <th>97</th>\n",
       "      <td>C5orf49</td>\n",
       "      <td>TMOD2</td>\n",
       "      <td>USP22</td>\n",
       "      <td>KBTBD6</td>\n",
       "      <td>NaN</td>\n",
       "      <td>NaN</td>\n",
       "      <td>NaN</td>\n",
       "      <td>NaN</td>\n",
       "      <td>LY86</td>\n",
       "      <td>NaN</td>\n",
       "      <td>...</td>\n",
       "      <td>NaN</td>\n",
       "      <td>NaN</td>\n",
       "      <td>NaN</td>\n",
       "      <td>LDB3</td>\n",
       "      <td>MAB21L2</td>\n",
       "      <td>NaN</td>\n",
       "      <td>NaN</td>\n",
       "      <td>NaN</td>\n",
       "      <td>NaN</td>\n",
       "      <td>NaN</td>\n",
       "    </tr>\n",
       "    <tr>\n",
       "      <th>98</th>\n",
       "      <td>ATF5</td>\n",
       "      <td>EML2</td>\n",
       "      <td>VAMP2</td>\n",
       "      <td>SPATA20</td>\n",
       "      <td>NaN</td>\n",
       "      <td>NaN</td>\n",
       "      <td>NaN</td>\n",
       "      <td>NaN</td>\n",
       "      <td>KLHDC8A</td>\n",
       "      <td>NaN</td>\n",
       "      <td>...</td>\n",
       "      <td>NaN</td>\n",
       "      <td>NaN</td>\n",
       "      <td>NaN</td>\n",
       "      <td>RIMKLA</td>\n",
       "      <td>NGFR</td>\n",
       "      <td>NaN</td>\n",
       "      <td>NaN</td>\n",
       "      <td>NaN</td>\n",
       "      <td>NaN</td>\n",
       "      <td>NaN</td>\n",
       "    </tr>\n",
       "    <tr>\n",
       "      <th>99</th>\n",
       "      <td>SAP30L</td>\n",
       "      <td>JPH4</td>\n",
       "      <td>KLHDC8A</td>\n",
       "      <td>SLC40A1</td>\n",
       "      <td>NaN</td>\n",
       "      <td>NaN</td>\n",
       "      <td>NaN</td>\n",
       "      <td>NaN</td>\n",
       "      <td>NISCH</td>\n",
       "      <td>NaN</td>\n",
       "      <td>...</td>\n",
       "      <td>NaN</td>\n",
       "      <td>NaN</td>\n",
       "      <td>NaN</td>\n",
       "      <td>TMTC1</td>\n",
       "      <td>BABAM1</td>\n",
       "      <td>NaN</td>\n",
       "      <td>NaN</td>\n",
       "      <td>NaN</td>\n",
       "      <td>NaN</td>\n",
       "      <td>NaN</td>\n",
       "    </tr>\n",
       "  </tbody>\n",
       "</table>\n",
       "<p>100 rows × 54 columns</p>\n",
       "</div>"
      ],
      "text/plain": [
       "          ZBTB20    THRA     ZEB2    ZNF483    ARNT  BCL11A    PRRX2    TCF4  \\\n",
       "Gene\\TF                                                                        \n",
       "0          GAP43    JUND     AQP1     SCRG1   GOLM1   ADCY7   IGFBP5    TMC3   \n",
       "1           EBF1  ZBTB20    GAP43     GOLM1   TIGIT    CALY   ATP2A3   KLHL1   \n",
       "2          RPL14  PCSK1N     EBF1  TMEM255B  ZNF483    SCGN     HAP1   CREB5   \n",
       "3           PRPH   GAP43   PCSK1N      RGS9  NPFFR2  ATP1B1  FAM169B  IGFBP7   \n",
       "4           EEF2   RPL14  ADCYAP1     TIGIT  PROKR2  NPFFR2     RPL6    CD81   \n",
       "...          ...     ...      ...       ...     ...     ...      ...     ...   \n",
       "95         SETD7   PTPRS    BASP1      ATN1     NaN     NaN      NaN     NaN   \n",
       "96         CBARP  NFE2L1      SON     PNMA1     NaN     NaN      NaN     NaN   \n",
       "97       C5orf49   TMOD2    USP22    KBTBD6     NaN     NaN      NaN     NaN   \n",
       "98          ATF5    EML2    VAMP2   SPATA20     NaN     NaN      NaN     NaN   \n",
       "99        SAP30L    JPH4  KLHDC8A   SLC40A1     NaN     NaN      NaN     NaN   \n",
       "\n",
       "            ETV5  BCL11B  ...   MYCN TIMELESS    ZBTB38   POU4F2    LUZP1  \\\n",
       "Gene\\TF                   ...                                               \n",
       "0          ETNK1  POU4F3  ...    NTS    FSTL1       SON    P2RY1     LMO1   \n",
       "1            JUP    ZEB2  ...    ADA   DUSP26     BEAN1   LINGO1    SCN1B   \n",
       "2          GAP43  NFE2L1  ...  HTR1F    BEAN1   C5orf49  OSBPL1A   ZNF521   \n",
       "3           NWD2    EBF1  ...  NPY2R    HTR1F     USP20     GPX2    PTPRE   \n",
       "4         CYFIP2  RBFOX3  ...   MRAS    NPY2R  TIMELESS   OSBPL6   IQSEC2   \n",
       "...          ...     ...  ...    ...      ...       ...      ...      ...   \n",
       "95         TRPV1     NaN  ...    NaN      NaN       NaN    ANXA3    HARS1   \n",
       "96       EPB41L3     NaN  ...    NaN      NaN       NaN  TP53I11   HAPLN4   \n",
       "97          LY86     NaN  ...    NaN      NaN       NaN     LDB3  MAB21L2   \n",
       "98       KLHDC8A     NaN  ...    NaN      NaN       NaN   RIMKLA     NGFR   \n",
       "99         NISCH     NaN  ...    NaN      NaN       NaN    TMTC1   BABAM1   \n",
       "\n",
       "          ZNF521   TBX19      ID4    DEAF1     TLX3  \n",
       "Gene\\TF                                              \n",
       "0         IQSEC2  COL9A2   EXOC1L   EXOC1L   EXOC1L  \n",
       "1           TOX3    GPC3  RARRES1   FKBP1B    CAMK1  \n",
       "2          CCKAR  SH3RF2   FERMT2  CCDC107  CCDC107  \n",
       "3             TH   KCNJ6    PLPP2     ANO6  RARRES1  \n",
       "4        KIRREL3    NPNT    MYADM     PLD5    UNC50  \n",
       "...          ...     ...      ...      ...      ...  \n",
       "95           NaN     NaN      NaN      NaN      NaN  \n",
       "96           NaN     NaN      NaN      NaN      NaN  \n",
       "97           NaN     NaN      NaN      NaN      NaN  \n",
       "98           NaN     NaN      NaN      NaN      NaN  \n",
       "99           NaN     NaN      NaN      NaN      NaN  \n",
       "\n",
       "[100 rows x 54 columns]"
      ]
     },
     "execution_count": 144,
     "metadata": {},
     "output_type": "execute_result"
    }
   ],
   "source": [
    "dftf=dftf[clist]\n",
    "dftf"
   ]
  },
  {
   "cell_type": "code",
   "execution_count": null,
   "metadata": {},
   "outputs": [],
   "source": []
  },
  {
   "cell_type": "code",
   "execution_count": null,
   "metadata": {},
   "outputs": [],
   "source": []
  },
  {
   "cell_type": "code",
   "execution_count": null,
   "metadata": {},
   "outputs": [],
   "source": []
  }
 ],
 "metadata": {
  "kernelspec": {
   "display_name": "Python 3 (ipykernel)",
   "language": "python",
   "name": "python3"
  },
  "language_info": {
   "codemirror_mode": {
    "name": "ipython",
    "version": 3
   },
   "file_extension": ".py",
   "mimetype": "text/x-python",
   "name": "python",
   "nbconvert_exporter": "python",
   "pygments_lexer": "ipython3",
   "version": "3.8.16"
  }
 },
 "nbformat": 4,
 "nbformat_minor": 2
}
